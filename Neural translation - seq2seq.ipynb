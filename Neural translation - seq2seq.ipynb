{
 "cells": [
  {
   "cell_type": "markdown",
   "metadata": {},
   "source": [
    "# Neural translation - seq2seq\n",
    "## French questions to english questions"
   ]
  },
  {
   "cell_type": "markdown",
   "metadata": {},
   "source": [
    "**Difficulties:**\n",
    "\n",
    "1. Output of arbitrary length\n",
    "1. Order of tokens in the input and the output is not the same"
   ]
  },
  {
   "cell_type": "code",
   "execution_count": 1,
   "metadata": {},
   "outputs": [],
   "source": [
    "%matplotlib inline\n",
    "%reload_ext autoreload\n",
    "%autoreload 2"
   ]
  },
  {
   "cell_type": "code",
   "execution_count": 2,
   "metadata": {},
   "outputs": [],
   "source": [
    "from fastai.text import *"
   ]
  },
  {
   "cell_type": "markdown",
   "metadata": {},
   "source": [
    "## Dataset\n",
    "http://www.statmt.org/wmt15/translation-task.html\n",
    "\n",
    "Obtained by web crawling millions of sites and using simple heuristics such as replacing *en* with *fr* etc."
   ]
  },
  {
   "cell_type": "code",
   "execution_count": 3,
   "metadata": {},
   "outputs": [],
   "source": [
    "PATH = Path('data/translate/')\n",
    "TMP_PATH = PATH/'tmp'\n",
    "TMP_PATH.mkdir(exist_ok=True)"
   ]
  },
  {
   "cell_type": "code",
   "execution_count": 4,
   "metadata": {},
   "outputs": [],
   "source": [
    "filename = 'giga-fren.release2.fixed'"
   ]
  },
  {
   "cell_type": "code",
   "execution_count": 5,
   "metadata": {},
   "outputs": [],
   "source": [
    "en_fn = PATH/f'{filename}.en'\n",
    "fr_fn = PATH/f'{filename}.fr'"
   ]
  },
  {
   "cell_type": "markdown",
   "metadata": {},
   "source": [
    "Training a full translation model takes a long time. In this example we therefore focus only on questions that start with *What*, *Where*, *Wh...* etc. and end with a *?*.\n",
    "\n",
    "Compiling makes the regular expressions faster."
   ]
  },
  {
   "cell_type": "code",
   "execution_count": 6,
   "metadata": {},
   "outputs": [],
   "source": [
    "re_enquest = re.compile('^(Wh[^?.!]+\\?)')\n",
    "re_frquest = re.compile('^([^?.!]+\\?)')"
   ]
  },
  {
   "cell_type": "code",
   "execution_count": 7,
   "metadata": {},
   "outputs": [],
   "source": [
    "lines = ((re_enquest.search(enquest), re_frquest.search(frquest)) for enquest, frquest in zip(open(en_fn, encoding='utf-8'), open(fr_fn, encoding='utf-8')))"
   ]
  },
  {
   "cell_type": "code",
   "execution_count": 8,
   "metadata": {},
   "outputs": [
    {
     "name": "stdout",
     "output_type": "stream",
     "text": [
      "(None, None)\n",
      "(None, None)\n",
      "(None, None)\n",
      "(None, None)\n",
      "(None, None)\n",
      "(<_sre.SRE_Match object; span=(0, 15), match='What is light ?'>, <_sre.SRE_Match object; span=(0, 25), match='Qu’est-ce que la lumière?'>)\n",
      "(None, None)\n",
      "(None, None)\n",
      "(None, None)\n",
      "(None, None)\n",
      "(None, None)\n",
      "(None, None)\n",
      "(None, <_sre.SRE_Match object; span=(0, 72), match=\"Astronomes Introduction Vidéo d'introduction Qu'e>)\n",
      "(None, None)\n",
      "(None, None)\n",
      "(None, None)\n",
      "(None, None)\n",
      "(None, None)\n",
      "(None, None)\n",
      "(<_sre.SRE_Match object; span=(0, 11), match='Who are we?'>, <_sre.SRE_Match object; span=(0, 15), match='Où sommes-nous?'>)\n",
      "(<_sre.SRE_Match object; span=(0, 23), match='Where did we come from?'>, <_sre.SRE_Match object; span=(0, 17), match=\"D'où venons-nous?\">)\n"
     ]
    }
   ],
   "source": [
    "for i, l in enumerate(lines):\n",
    "    print(l)\n",
    "    if i == 20:\n",
    "        break"
   ]
  },
  {
   "cell_type": "code",
   "execution_count": 9,
   "metadata": {},
   "outputs": [],
   "source": [
    "questions = [(e.group(), f.group()) for e, f in lines if e and f]"
   ]
  },
  {
   "cell_type": "code",
   "execution_count": 10,
   "metadata": {},
   "outputs": [],
   "source": [
    "pickle.dump(questions, (PATH/'fr-en-questions.pkl').open('wb'))"
   ]
  },
  {
   "cell_type": "code",
   "execution_count": 11,
   "metadata": {},
   "outputs": [],
   "source": [
    "questions = pickle.load((PATH/'fr-en-questions.pkl').open('rb'))"
   ]
  },
  {
   "cell_type": "code",
   "execution_count": 12,
   "metadata": {},
   "outputs": [
    {
     "data": {
      "text/plain": [
       "[('What would we do without it?', 'Que ferions-nous sans elle ?'),\n",
       " ('What is the absolute location (latitude and longitude) of Badger, Newfoundland and Labrador?',\n",
       "  'Quelle sont les coordonnées (latitude et longitude) de Badger, à Terre-Neuve-etLabrador?'),\n",
       " ('What is the major aboriginal group on Vancouver Island?',\n",
       "  'Quel est le groupe autochtone principal sur l’île de Vancouver?')]"
      ]
     },
     "execution_count": 12,
     "metadata": {},
     "output_type": "execute_result"
    }
   ],
   "source": [
    "questions[:3]"
   ]
  },
  {
   "cell_type": "code",
   "execution_count": 13,
   "metadata": {},
   "outputs": [
    {
     "data": {
      "text/plain": [
       "52328"
      ]
     },
     "execution_count": 13,
     "metadata": {},
     "output_type": "execute_result"
    }
   ],
   "source": [
    "len(questions)"
   ]
  },
  {
   "cell_type": "code",
   "execution_count": 14,
   "metadata": {},
   "outputs": [],
   "source": [
    "en_questions, fr_questions = zip(*questions)"
   ]
  },
  {
   "cell_type": "markdown",
   "metadata": {},
   "source": [
    "### Tokenization"
   ]
  },
  {
   "cell_type": "markdown",
   "metadata": {},
   "source": [
    "`Tokenizer` is a fastai wrapper around *spacy* that uses multiple processors for speedup."
   ]
  },
  {
   "cell_type": "code",
   "execution_count": 15,
   "metadata": {},
   "outputs": [],
   "source": [
    "en_tok = Tokenizer.proc_all_mp(partition_by_cores(en_questions))"
   ]
  },
  {
   "cell_type": "code",
   "execution_count": 16,
   "metadata": {},
   "outputs": [],
   "source": [
    "fr_tok = Tokenizer.proc_all_mp(partition_by_cores(fr_questions), 'fr')"
   ]
  },
  {
   "cell_type": "code",
   "execution_count": 17,
   "metadata": {},
   "outputs": [
    {
     "data": {
      "text/plain": [
       "['what', 'would', 'we', 'do', 'without', 'it', '?']"
      ]
     },
     "execution_count": 17,
     "metadata": {},
     "output_type": "execute_result"
    }
   ],
   "source": [
    "en_tok[0]"
   ]
  },
  {
   "cell_type": "code",
   "execution_count": 18,
   "metadata": {},
   "outputs": [
    {
     "data": {
      "text/plain": [
       "['que', 'ferions', '-', 'nous', 'sans', 'elle', '?']"
      ]
     },
     "execution_count": 18,
     "metadata": {},
     "output_type": "execute_result"
    }
   ],
   "source": [
    "fr_tok[0]"
   ]
  },
  {
   "cell_type": "markdown",
   "metadata": {},
   "source": [
    "#### Average length of the questions"
   ]
  },
  {
   "cell_type": "code",
   "execution_count": 19,
   "metadata": {},
   "outputs": [
    {
     "data": {
      "text/plain": [
       "13.345895123069868"
      ]
     },
     "execution_count": 19,
     "metadata": {},
     "output_type": "execute_result"
    }
   ],
   "source": [
    "np.mean([len(q) for q in en_tok])"
   ]
  },
  {
   "cell_type": "code",
   "execution_count": 20,
   "metadata": {},
   "outputs": [
    {
     "data": {
      "text/plain": [
       "16.26809738572084"
      ]
     },
     "execution_count": 20,
     "metadata": {},
     "output_type": "execute_result"
    }
   ],
   "source": [
    "np.mean([len(q) for q in fr_tok])"
   ]
  },
  {
   "cell_type": "markdown",
   "metadata": {},
   "source": [
    "#### Discard questions that are too long"
   ]
  },
  {
   "cell_type": "code",
   "execution_count": 21,
   "metadata": {},
   "outputs": [],
   "source": [
    "keep = np.array([len(q) < 30 for q in en_tok])"
   ]
  },
  {
   "cell_type": "code",
   "execution_count": 22,
   "metadata": {},
   "outputs": [],
   "source": [
    "en_tok = np.array(en_tok)[keep]\n",
    "fr_tok = np.array(fr_tok)[keep]"
   ]
  },
  {
   "cell_type": "code",
   "execution_count": 23,
   "metadata": {},
   "outputs": [],
   "source": [
    "pickle.dump(en_tok, (PATH/'en_tok.pkl').open('wb'))\n",
    "pickle.dump(fr_tok, (PATH/'fr_tok.pkl').open('wb'))"
   ]
  },
  {
   "cell_type": "code",
   "execution_count": 24,
   "metadata": {},
   "outputs": [],
   "source": [
    "en_tok = pickle.load((PATH/'en_tok.pkl').open('rb'))\n",
    "fr_tok = pickle.load((PATH/'fr_tok.pkl').open('rb'))"
   ]
  },
  {
   "cell_type": "markdown",
   "metadata": {},
   "source": [
    "### Numericalization"
   ]
  },
  {
   "cell_type": "code",
   "execution_count": 25,
   "metadata": {},
   "outputs": [],
   "source": [
    "def toks2idxs(tok, pre):\n",
    "    freq = Counter(t for q in tok for t in q)\n",
    "    itos = [s for s, c in freq.most_common(40000)]\n",
    "    itos.insert(0, '_bos_')  # beginning of sequence token\n",
    "    itos.insert(1, '_pad_')  # padding token\n",
    "    itos.insert(2, '_eos_')  # end of sequence token\n",
    "    itos.insert(3, '_unk_')  # unknown token\n",
    "    stoi = collections.defaultdict(lambda: 3, {t:i for i,t in enumerate(itos)})  # if string not found, set to '_unk_'\n",
    "    indcs = np.array([([stoi[t] for t in q] + [2]) for q in tok])\n",
    "    np.save(TMP_PATH/f'{pre}_indcs.npy', indcs)\n",
    "    pickle.dump(itos, open(TMP_PATH/f'{pre}_itos_pkl', 'wb'))\n",
    "    return indcs, itos, stoi"
   ]
  },
  {
   "cell_type": "code",
   "execution_count": 26,
   "metadata": {},
   "outputs": [],
   "source": [
    "en_indcs, en_itos, fr_stoi = toks2idxs(en_tok, 'en')"
   ]
  },
  {
   "cell_type": "code",
   "execution_count": 27,
   "metadata": {},
   "outputs": [],
   "source": [
    "fr_indcs, fr_itos, fr_stoi = toks2idxs(fr_tok, 'fr')"
   ]
  },
  {
   "cell_type": "code",
   "execution_count": 28,
   "metadata": {},
   "outputs": [],
   "source": [
    "def load_indcs(pre):\n",
    "    indcs = np.load(TMP_PATH/f'{pre}_indcs.npy')\n",
    "    itos = pickle.load(open(TMP_PATH/f'{pre}_itos_pkl', 'rb'))\n",
    "    stoi = collections.defaultdict(lambda: 3, {t:i for i,t in enumerate(itos)})\n",
    "    return indcs, itos, stoi"
   ]
  },
  {
   "cell_type": "code",
   "execution_count": 29,
   "metadata": {},
   "outputs": [],
   "source": [
    "en_indcs, en_itos, en_stoi = load_indcs('en')\n",
    "fr_indcs, fr_itos, fr_stoi = load_indcs('fr')"
   ]
  },
  {
   "cell_type": "code",
   "execution_count": 30,
   "metadata": {},
   "outputs": [
    {
     "data": {
      "text/plain": [
       "'what would we do without it ? _eos_'"
      ]
     },
     "execution_count": 30,
     "metadata": {},
     "output_type": "execute_result"
    }
   ],
   "source": [
    "' '.join([en_itos[i] for i in en_indcs[0]])"
   ]
  },
  {
   "cell_type": "code",
   "execution_count": 31,
   "metadata": {},
   "outputs": [
    {
     "data": {
      "text/plain": [
       "'que ferions - nous sans elle ? _eos_'"
      ]
     },
     "execution_count": 31,
     "metadata": {},
     "output_type": "execute_result"
    }
   ],
   "source": [
    "' '.join([fr_itos[i] for i in fr_indcs[0]])"
   ]
  },
  {
   "cell_type": "markdown",
   "metadata": {},
   "source": [
    "### Word vectors"
   ]
  },
  {
   "cell_type": "code",
   "execution_count": 32,
   "metadata": {},
   "outputs": [],
   "source": [
    "# ! pip install git+https://github.com/facebookresearch/fastText.git"
   ]
  },
  {
   "cell_type": "code",
   "execution_count": 33,
   "metadata": {},
   "outputs": [],
   "source": [
    "import fastText as ft"
   ]
  },
  {
   "cell_type": "code",
   "execution_count": 34,
   "metadata": {},
   "outputs": [],
   "source": [
    "en_vecs = ft.load_model(str((PATH/'word_vectors'/'wiki.en.bin')))"
   ]
  },
  {
   "cell_type": "code",
   "execution_count": 35,
   "metadata": {},
   "outputs": [],
   "source": [
    "fr_vecs = ft.load_model(str(PATH/'word_vectors'/'wiki.fr.bin'))"
   ]
  },
  {
   "cell_type": "code",
   "execution_count": 36,
   "metadata": {},
   "outputs": [],
   "source": [
    "def get_vecs(lang, ft_vecs):\n",
    "    vec_dict = {w: ft_vecs.get_word_vector(w) for w in ft_vecs.get_words()}\n",
    "    pickle.dump(vec_dict, open(PATH/f'wiki.{lang}.pkl', 'wb'))\n",
    "    return vec_dict"
   ]
  },
  {
   "cell_type": "code",
   "execution_count": 37,
   "metadata": {},
   "outputs": [],
   "source": [
    "en_vec_dict = get_vecs('en', en_vecs)\n",
    "fr_vec_dict = get_vecs('fr', fr_vecs)"
   ]
  },
  {
   "cell_type": "code",
   "execution_count": 38,
   "metadata": {},
   "outputs": [],
   "source": [
    "en_vec_dict = pickle.load(open(PATH/'wiki.en.pkl','rb'))\n",
    "en_vec_dict = pickle.load(open(PATH/'wiki.en.pkl','rb'))"
   ]
  },
  {
   "cell_type": "code",
   "execution_count": 39,
   "metadata": {},
   "outputs": [],
   "source": [
    "ft_words = en_vecs.get_words(include_freq=True)"
   ]
  },
  {
   "cell_type": "code",
   "execution_count": 40,
   "metadata": {},
   "outputs": [],
   "source": [
    "ft_word_dict = {k:v for k,v in zip(*ft_words)}"
   ]
  },
  {
   "cell_type": "code",
   "execution_count": 41,
   "metadata": {},
   "outputs": [],
   "source": [
    "ft_words = sorted(ft_word_dict.keys(), key=lambda x: ft_word_dict[x])  # sorted by frequency"
   ]
  },
  {
   "cell_type": "code",
   "execution_count": 42,
   "metadata": {},
   "outputs": [
    {
     "data": {
      "text/plain": [
       "['by',\n",
       " 'as',\n",
       " 'for',\n",
       " 's',\n",
       " 'on',\n",
       " 'was',\n",
       " 'is',\n",
       " 'a',\n",
       " 'to',\n",
       " '(',\n",
       " ')',\n",
       " \"'\",\n",
       " 'and',\n",
       " 'in',\n",
       " '-',\n",
       " 'of',\n",
       " '</s>',\n",
       " 'the',\n",
       " '.',\n",
       " ',']"
      ]
     },
     "execution_count": 42,
     "metadata": {},
     "output_type": "execute_result"
    }
   ],
   "source": [
    "ft_words[-20:]"
   ]
  },
  {
   "cell_type": "code",
   "execution_count": 43,
   "metadata": {},
   "outputs": [
    {
     "data": {
      "text/plain": [
       "2519370"
      ]
     },
     "execution_count": 43,
     "metadata": {},
     "output_type": "execute_result"
    }
   ],
   "source": [
    "len(ft_words)"
   ]
  },
  {
   "cell_type": "markdown",
   "metadata": {},
   "source": [
    "#### Dimensionality of the word vectors"
   ]
  },
  {
   "cell_type": "code",
   "execution_count": 44,
   "metadata": {},
   "outputs": [],
   "source": [
    "dim_en_vec = len(en_vec_dict['and'])\n",
    "dim_fr_vec = len(fr_vec_dict['and'])"
   ]
  },
  {
   "cell_type": "code",
   "execution_count": 45,
   "metadata": {},
   "outputs": [
    {
     "data": {
      "text/plain": [
       "(300, 300)"
      ]
     },
     "execution_count": 45,
     "metadata": {},
     "output_type": "execute_result"
    }
   ],
   "source": [
    "dim_en_vec, dim_fr_vec"
   ]
  },
  {
   "cell_type": "markdown",
   "metadata": {},
   "source": [
    "#### Mean and stdv of word vectors"
   ]
  },
  {
   "cell_type": "code",
   "execution_count": 46,
   "metadata": {},
   "outputs": [],
   "source": [
    "en_vecs = np.stack(list(en_vec_dict.values()))\n",
    "# keys are words, values are the vectors of size 300"
   ]
  },
  {
   "cell_type": "code",
   "execution_count": 47,
   "metadata": {},
   "outputs": [
    {
     "data": {
      "text/plain": [
       "(2519370, 300)"
      ]
     },
     "execution_count": 47,
     "metadata": {},
     "output_type": "execute_result"
    }
   ],
   "source": [
    "en_vecs.shape"
   ]
  },
  {
   "cell_type": "code",
   "execution_count": 48,
   "metadata": {},
   "outputs": [
    {
     "data": {
      "text/plain": [
       "(0.0075652334, 0.29283327)"
      ]
     },
     "execution_count": 48,
     "metadata": {},
     "output_type": "execute_result"
    }
   ],
   "source": [
    "en_vecs.mean(), en_vecs.std()"
   ]
  },
  {
   "cell_type": "markdown",
   "metadata": {},
   "source": [
    "### Model data object"
   ]
  },
  {
   "cell_type": "markdown",
   "metadata": {},
   "source": [
    "`en_indcs` are the numericalized questions.\n",
    "\n",
    "**Percentile:**\n",
    "*Ist beispielsweise eine Stichprobe von Schuhgrößen gegeben, so ist das empirische 0,35-Quantil diejenige Schuhgröße s , so dass 35 % der Schuhgrößen in der Stichprobe kleiner als s  sind und 65 % größer als s sind.* [source](https://de.wikipedia.org/wiki/Empirisches_Quantil)"
   ]
  },
  {
   "cell_type": "code",
   "execution_count": 49,
   "metadata": {},
   "outputs": [],
   "source": [
    "en_len_99 = int(np.percentile([len(o) for o in en_indcs], 99))\n",
    "fr_len_97 = int(np.percentile([len(o) for o in fr_indcs], 97))"
   ]
  },
  {
   "cell_type": "code",
   "execution_count": 50,
   "metadata": {},
   "outputs": [
    {
     "data": {
      "text/plain": [
       "(29, 33)"
      ]
     },
     "execution_count": 50,
     "metadata": {},
     "output_type": "execute_result"
    }
   ],
   "source": [
    "en_len_99, fr_len_97"
   ]
  },
  {
   "cell_type": "markdown",
   "metadata": {},
   "source": [
    "#### Truncate the questions"
   ]
  },
  {
   "cell_type": "code",
   "execution_count": 51,
   "metadata": {},
   "outputs": [],
   "source": [
    "en_indcs_trunc = np.array([q[:en_len_99] for q in en_indcs])\n",
    "fr_indcs_trunc = np.array([q[:fr_len_97] for q in fr_indcs])"
   ]
  },
  {
   "cell_type": "markdown",
   "metadata": {},
   "source": [
    "A `Dataset` object needs a `__getitem__` and a `__len__` method. This example is actually very general and can be used for any arrays..."
   ]
  },
  {
   "cell_type": "code",
   "execution_count": 52,
   "metadata": {},
   "outputs": [],
   "source": [
    "class Seq2SeqDataset(Dataset):\n",
    "    def __init__(self, x, y):\n",
    "        self.x, self.y = x, y\n",
    "    def __getitem__(self, idx):\n",
    "        return A(self.x[idx], self.y[idx])\n",
    "    def __len__(self):\n",
    "        return len(self.x)"
   ]
  },
  {
   "cell_type": "code",
   "execution_count": 53,
   "metadata": {},
   "outputs": [],
   "source": [
    "??A()  # returns a np.array if len == 1 else returns a list of np.arrays"
   ]
  },
  {
   "cell_type": "code",
   "execution_count": 54,
   "metadata": {},
   "outputs": [],
   "source": [
    "np.random.seed(42)"
   ]
  },
  {
   "cell_type": "markdown",
   "metadata": {},
   "source": [
    "#### Split into train and validation set"
   ]
  },
  {
   "cell_type": "code",
   "execution_count": 55,
   "metadata": {},
   "outputs": [],
   "source": [
    "trn_keep = np.random.rand(len(en_indcs_trunc)) > 0.1"
   ]
  },
  {
   "cell_type": "code",
   "execution_count": 56,
   "metadata": {},
   "outputs": [],
   "source": [
    "en_trn, fr_trn = en_indcs_trunc[trn_keep], fr_indcs_trunc[trn_keep]"
   ]
  },
  {
   "cell_type": "code",
   "execution_count": 57,
   "metadata": {},
   "outputs": [],
   "source": [
    "en_val, fr_val = en_indcs_trunc[~trn_keep], fr_indcs_trunc[~trn_keep]  # tilde negates"
   ]
  },
  {
   "cell_type": "code",
   "execution_count": 58,
   "metadata": {},
   "outputs": [
    {
     "data": {
      "text/plain": [
       "(45218, 5039)"
      ]
     },
     "execution_count": 58,
     "metadata": {},
     "output_type": "execute_result"
    }
   ],
   "source": [
    "len(en_trn), len(en_val)"
   ]
  },
  {
   "cell_type": "markdown",
   "metadata": {},
   "source": [
    "#### Create datasets for french to english translation. Swap arguments to create a english to french model."
   ]
  },
  {
   "cell_type": "code",
   "execution_count": 59,
   "metadata": {},
   "outputs": [],
   "source": [
    "trn_ds = Seq2SeqDataset(fr_trn, en_trn)\n",
    "val_ds = Seq2SeqDataset(fr_val, en_val)"
   ]
  },
  {
   "cell_type": "code",
   "execution_count": 60,
   "metadata": {},
   "outputs": [
    {
     "data": {
      "text/plain": [
       "'que ferions - nous sans elle ? _eos_'"
      ]
     },
     "execution_count": 60,
     "metadata": {},
     "output_type": "execute_result"
    }
   ],
   "source": [
    "' '.join([fr_itos[o] for o in fr_trn[0]])"
   ]
  },
  {
   "cell_type": "code",
   "execution_count": 61,
   "metadata": {},
   "outputs": [
    {
     "data": {
      "text/plain": [
       "'what would we do without it ? _eos_'"
      ]
     },
     "execution_count": 61,
     "metadata": {},
     "output_type": "execute_result"
    }
   ],
   "source": [
    "' '.join([en_itos[o] for o in en_trn[0]])"
   ]
  },
  {
   "cell_type": "markdown",
   "metadata": {},
   "source": [
    "Everything still looking as expected :)"
   ]
  },
  {
   "cell_type": "code",
   "execution_count": 62,
   "metadata": {},
   "outputs": [],
   "source": [
    "bs = 125"
   ]
  },
  {
   "cell_type": "markdown",
   "metadata": {},
   "source": [
    "Since we want to fully utilize the GPUs capabilities, we train in batches. The length of a minibatch tensor is set by the sequence length of the longest question in that batch. The other questions are padded. To save time and memory, we want to avoid very long and very short questions in one batch because that would mean lot's of padding. For the validation set we simply sort the questions. For training we use the `SortishSampler` which groups *longer* questions together and *shorter* questions together while preserving some randomness.\n",
    "\n",
    "For language models it's better to pad before the start of the sequence because we need the final hidden state to predict the next token or for classification...\n",
    "\n",
    "For sequence to sequence models it is better to pad after the end of the sequence."
   ]
  },
  {
   "cell_type": "code",
   "execution_count": 63,
   "metadata": {},
   "outputs": [],
   "source": [
    "trn_sampler = SortishSampler(en_trn, key=lambda x: len(en_trn[x]), bs=bs)\n",
    "val_sampler = SortSampler(en_val, key=lambda x:len(en_val[x]))"
   ]
  },
  {
   "cell_type": "markdown",
   "metadata": {},
   "source": [
    "Both samplers simply return indices:"
   ]
  },
  {
   "cell_type": "code",
   "execution_count": 64,
   "metadata": {},
   "outputs": [],
   "source": [
    "i = next(iter(trn_sampler))"
   ]
  },
  {
   "cell_type": "code",
   "execution_count": 65,
   "metadata": {},
   "outputs": [
    {
     "data": {
      "text/plain": [
       "'why do birds live near the ocean ? _eos_'"
      ]
     },
     "execution_count": 65,
     "metadata": {},
     "output_type": "execute_result"
    }
   ],
   "source": [
    "' '.join([en_itos[o] for o in en_trn[i]])"
   ]
  },
  {
   "cell_type": "code",
   "execution_count": 66,
   "metadata": {},
   "outputs": [
    {
     "data": {
      "text/plain": [
       "'pourquoi certains oiseaux vivent - ils à proximité de la mer ? _eos_'"
      ]
     },
     "execution_count": 66,
     "metadata": {},
     "output_type": "execute_result"
    }
   ],
   "source": [
    "' '.join([fr_itos[o] for o in fr_trn[i]])"
   ]
  },
  {
   "cell_type": "code",
   "execution_count": 67,
   "metadata": {},
   "outputs": [],
   "source": [
    "trn_dl = DataLoader(trn_ds, bs, transpose=True, transpose_y=True, num_workers=1, pad_idx=1, pre_pad=False, sampler=trn_sampler)\n"
   ]
  },
  {
   "cell_type": "code",
   "execution_count": 68,
   "metadata": {},
   "outputs": [],
   "source": [
    "val_dl = DataLoader(val_ds, int(1.5*bs), transpose=True, transpose_y=True, num_workers=1, pad_idx=1, pre_pad=False, sampler=val_sampler)"
   ]
  },
  {
   "cell_type": "markdown",
   "metadata": {},
   "source": [
    "Reminder: the ModelData object combines the training and validation dataloaders and a path to story temp stuff. When you have a ModelData object you can create a learner and then call `fit`."
   ]
  },
  {
   "cell_type": "code",
   "execution_count": 69,
   "metadata": {},
   "outputs": [],
   "source": [
    "modeldata = ModelData(PATH, trn_dl, val_dl)"
   ]
  },
  {
   "cell_type": "markdown",
   "metadata": {},
   "source": [
    "**Let's look at an example batch:**"
   ]
  },
  {
   "cell_type": "code",
   "execution_count": 70,
   "metadata": {},
   "outputs": [],
   "source": [
    "it = iter(trn_dl)\n",
    "its = [next(it) for i in range(3)]"
   ]
  },
  {
   "cell_type": "code",
   "execution_count": 71,
   "metadata": {},
   "outputs": [
    {
     "data": {
      "text/plain": [
       "[(32, 18), (25, 8), (21, 9)]"
      ]
     },
     "execution_count": 71,
     "metadata": {},
     "output_type": "execute_result"
    }
   ],
   "source": [
    "[(len(x), len(y)) for x,y in its]"
   ]
  },
  {
   "cell_type": "code",
   "execution_count": 72,
   "metadata": {},
   "outputs": [
    {
     "name": "stdout",
     "output_type": "stream",
     "text": [
      "en ce qui concerne l’ adhésion des 10 nouveaux états membres , quelle est la proposition correcte ? _eos_ _pad_ _pad_ _pad_ _pad_ _pad_ _pad_ _pad_ _pad_ _pad_ _pad_ _pad_ _pad_ _pad_\n",
      "which of the following is correct as regards the accession of the 10 new member states ? _eos_\n",
      "\n",
      "quels stimulateurs de croissance sont autorisés au canada ? _eos_ _pad_ _pad_ _pad_ _pad_ _pad_ _pad_ _pad_ _pad_ _pad_ _pad_ _pad_ _pad_ _pad_ _pad_ _pad_\n",
      "which products are approved in canada ? _eos_\n",
      "\n",
      "qui a -t -on atteint avec le programme ? _eos_ _pad_ _pad_ _pad_ _pad_ _pad_ _pad_ _pad_ _pad_ _pad_ _pad_ _pad_\n",
      "who has been reached by the program ? _eos_\n",
      "\n"
     ]
    }
   ],
   "source": [
    "for x, y in its:\n",
    "    print(' '.join([fr_itos[o] for o in x[:,0]]))\n",
    "    print(' '.join([en_itos[o] for o in y[:,0]]))\n",
    "    print()"
   ]
  },
  {
   "cell_type": "markdown",
   "metadata": {},
   "source": [
    "## First model"
   ]
  },
  {
   "cell_type": "code",
   "execution_count": 73,
   "metadata": {},
   "outputs": [],
   "source": [
    "n_hid, n_layers = 256, 2"
   ]
  },
  {
   "cell_type": "code",
   "execution_count": 74,
   "metadata": {},
   "outputs": [],
   "source": [
    "def create_emb(wordvecs, itos, em_sz):\n",
    "    emb = nn.Embedding(len(itos), em_sz, padding_idx=1)\n",
    "    weights = emb.weight.data\n",
    "    not_found = []\n",
    "    for idx, word in enumerate(itos):\n",
    "        try:\n",
    "            weights[idx] = torch.from_numpy(wordvecs[word] * 3)  # wordvecs is a dict\n",
    "            # wordvecs have stdv of ~0.3, embedding of 1, the found and not found ones should have same stdv\n",
    "        except:\n",
    "            not_found.append(word)\n",
    "    print(len(not_found), not_found[5:10])\n",
    "    return emb"
   ]
  },
  {
   "cell_type": "code",
   "execution_count": 75,
   "metadata": {},
   "outputs": [],
   "source": [
    "class Seq2SeqRNN(nn.Module):\n",
    "    def __init__(self, vecs_enc, itos_enc, emb_sz_enc, vecs_dec, itos_dec, emb_sz_dec, nh, out_seqlen, nl=2):\n",
    "        super().__init__()\n",
    "        self.nh, self.nl, self.out_seqlen = nh, nl, out_seqlen\n",
    "        \n",
    "        # Encoder\n",
    "        self.emb_enc = create_emb(vecs_enc, itos_enc, emb_sz_enc)\n",
    "        self.emb_enc_drop = nn.Dropout(0.15)\n",
    "        self.rnn_enc = nn.GRU(emb_sz_enc, nh, num_layers=nl, dropout=0.25)  # sz 300 in, sz 256 out\n",
    "        self.outp_enc = nn.Linear(nh, emb_sz_dec, bias=False)               # sz 256 in, sz 300 out\n",
    "        \n",
    "        # Decoder\n",
    "        self.emb_dec = create_emb(vecs_dec, itos_dec, emb_sz_dec)\n",
    "        self.rnn_dec = nn.GRU(emb_sz_dec, emb_sz_dec, num_layers=nl, dropout=0.1)  # square to enable weight tying\n",
    "        self.out_drop = nn.Dropout(0.35)                                           # sz 300 in, 300 out\n",
    "        self.out = nn.Linear(emb_sz_dec, len(itos_dec))\n",
    "        self.out.weight.data = self.emb_dec.weight.data                            # weight tying! not transposed?\n",
    "        \n",
    "    def forward(self, inp):\n",
    "        seqlen, bs = inp.size()\n",
    "        \n",
    "        # Encoder\n",
    "        h = self.initHidden(bs)\n",
    "        emb = self.emb_enc_drop(self.emb_enc(inp))\n",
    "        enc_outp, h = self.rnn_enc(emb, h)  # h[1] is same as enc_outp[-1]!\n",
    "        # pdb.set_trace()\n",
    "        h = self.outp_enc(h)\n",
    "\n",
    "        # Decoder\n",
    "        dec_inp = V(torch.zeros(bs).long())  # 0 is 'beginning of seq' token\n",
    "        res = []\n",
    "        for i in range(self.out_seqlen):\n",
    "            emb = self.emb_dec(dec_inp).unsqueeze(0)  # adds unit axis at beginning so that rnn 'loops' once\n",
    "            outp, h = self.rnn_dec(emb, h)  # 'loops' once\n",
    "            outp = self.out(self.out_drop(outp[0]))  # 0 because 'loops' once, predictions for words\n",
    "            res.append(outp)\n",
    "            dec_inp = V(outp.data.max(1)[1])  # [1] to get argmax\n",
    "            if (dec_inp == 1).all(): break    # if all sentences in the minibatch have _pad_ as input, break\n",
    "        return torch.stack(res)\n",
    "        \n",
    "    def initHidden(self, bs):\n",
    "        return V(torch.zeros(self.nl, bs, self.nh))"
   ]
  },
  {
   "cell_type": "markdown",
   "metadata": {},
   "source": [
    "**Decoder:** `outp`is the same as `h[1]` (has two layers)\n",
    "```\n",
    "p outp.shape\n",
    "torch.Size([1, 187, 300])\n",
    "\n",
    "p h.shape\n",
    "torch.Size([2, 187, 300])\n",
    "```\n",
    "\n",
    "**Encoder:**\n",
    "```\n",
    "p enc_outp.shape\n",
    "torch.Size([33, 187, 256])\n",
    "\n",
    "p h.shape\n",
    "torch.Size([2, 187, 256])\n",
    "```\n",
    "\n",
    "`enc_outp[-1]` and `h[1]` are the same\n",
    "\n",
    "(187 is bs)"
   ]
  },
  {
   "cell_type": "markdown",
   "metadata": {},
   "source": [
    "### Loss function"
   ]
  },
  {
   "cell_type": "code",
   "execution_count": 76,
   "metadata": {},
   "outputs": [],
   "source": [
    "def Seq2SeqLoss(pred, target):\n",
    "    seqlen, bs = target.size()\n",
    "    seqlen_pred, bs_pred, n_probs = pred.size()\n",
    "    \n",
    "    # we need to pad if target seqlen is larger than prediction seqlen\n",
    "    if seqlen > seqlen_pred:\n",
    "        pred = F.pad(pred, (0,0,0,0,0,seqlen-seqlen_pred))\n",
    "    \n",
    "    # but we only compare until the seqlen of the target\n",
    "    pred = pred[:seqlen]\n",
    "    \n",
    "    # cross_entropy can't handle rank 3 tensors currently, we need to flatten\n",
    "    return F.cross_entropy(pred.view(-1, n_probs), target.view(-1))"
   ]
  },
  {
   "cell_type": "code",
   "execution_count": 77,
   "metadata": {},
   "outputs": [],
   "source": [
    "opt_fn = partial(optim.Adam, betas=(0.8, 0.99))  # like bind in c++"
   ]
  },
  {
   "cell_type": "code",
   "execution_count": 78,
   "metadata": {},
   "outputs": [
    {
     "data": {
      "text/plain": [
       "(300, 300)"
      ]
     },
     "execution_count": 78,
     "metadata": {},
     "output_type": "execute_result"
    }
   ],
   "source": [
    "dim_fr_vec, dim_en_vec"
   ]
  },
  {
   "cell_type": "code",
   "execution_count": 115,
   "metadata": {},
   "outputs": [
    {
     "name": "stdout",
     "output_type": "stream",
     "text": [
      "3097 ['l’', \"d'\", 't_up', 'd’', \"qu'\"]\n",
      "1285 [\"'s\", '’s', \"n't\", 'n’t', ':']\n"
     ]
    }
   ],
   "source": [
    "rnn = Seq2SeqRNN(fr_vec_dict, fr_itos, dim_fr_vec, en_vec_dict, en_itos, dim_en_vec, n_hid, en_len_99)"
   ]
  },
  {
   "cell_type": "markdown",
   "metadata": {},
   "source": [
    "#### It's kind of understandable that these tokens where not found in the word vectors we downloaded"
   ]
  },
  {
   "cell_type": "code",
   "execution_count": 116,
   "metadata": {},
   "outputs": [],
   "source": [
    "learn = Learner(modeldata, SingleModel(to_gpu(rnn)), opt_fn=opt_fn)  # SingleModel makes the model one layer group"
   ]
  },
  {
   "cell_type": "code",
   "execution_count": 117,
   "metadata": {},
   "outputs": [],
   "source": [
    "learn.crit = Seq2SeqLoss"
   ]
  },
  {
   "cell_type": "code",
   "execution_count": 94,
   "metadata": {},
   "outputs": [
    {
     "data": {
      "application/vnd.jupyter.widget-view+json": {
       "model_id": "e7ee66c85b9c498d89b575fa9b128563",
       "version_major": 2,
       "version_minor": 0
      },
      "text/plain": [
       "HBox(children=(IntProgress(value=0, description='Epoch', max=1), HTML(value='')))"
      ]
     },
     "metadata": {},
     "output_type": "display_data"
    },
    {
     "name": "stdout",
     "output_type": "stream",
     "text": [
      " 67%|██████▋   | 241/362 [00:23<00:12, 10.06it/s, loss=37.1]"
     ]
    }
   ],
   "source": [
    "learn.lr_find()"
   ]
  },
  {
   "cell_type": "code",
   "execution_count": 95,
   "metadata": {},
   "outputs": [
    {
     "data": {
      "image/png": "[encoded data removed]",
      "text/plain": [
       "<Figure size 432x288 with 1 Axes>"
      ]
     },
     "metadata": {},
     "output_type": "display_data"
    }
   ],
   "source": [
    "learn.sched.plot()"
   ]
  },
  {
   "cell_type": "code",
   "execution_count": 96,
   "metadata": {},
   "outputs": [],
   "source": [
    "lr = 3e-3"
   ]
  },
  {
   "cell_type": "code",
   "execution_count": 97,
   "metadata": {},
   "outputs": [
    {
     "data": {
      "application/vnd.jupyter.widget-view+json": {
       "model_id": "f2d96c9b3d854c0083895c6b5f4827b8",
       "version_major": 2,
       "version_minor": 0
      },
      "text/plain": [
       "HBox(children=(IntProgress(value=0, description='Epoch', max=12), HTML(value='')))"
      ]
     },
     "metadata": {},
     "output_type": "display_data"
    },
    {
     "name": "stdout",
     "output_type": "stream",
     "text": [
      " 14%|█▍        | 52/362 [00:05<00:30, 10.00it/s, loss=8.32]\n",
      "epoch      trn_loss   val_loss                              \n",
      "    0      5.44016    5.701974  \n",
      "    1      4.310874   4.549533                              \n",
      "    2      3.890306   4.157954                              \n",
      "    3      3.719702   4.019643                              \n",
      "    4      3.322341   3.865383                              \n",
      "    5      3.221692   3.795207                              \n",
      "    6      3.220406   3.697457                              \n",
      "    7      3.244708   3.7222                                \n",
      "    8      2.893455   3.646579                              \n",
      "    9      2.846069   3.616925                              \n",
      "    10     2.784473   3.573879                              \n",
      "    11     2.667841   3.572502                              \n",
      "\n"
     ]
    },
    {
     "data": {
      "text/plain": [
       "[3.572502047460784]"
      ]
     },
     "execution_count": 97,
     "metadata": {},
     "output_type": "execute_result"
    }
   ],
   "source": [
    "learn.fit(lr, n_cycle=1, cycle_len=12, use_clr=(20, 10))"
   ]
  },
  {
   "cell_type": "code",
   "execution_count": 98,
   "metadata": {},
   "outputs": [],
   "source": [
    "learn.save('first_model')"
   ]
  },
  {
   "cell_type": "code",
   "execution_count": 118,
   "metadata": {},
   "outputs": [],
   "source": [
    "learn.load('first_model')"
   ]
  },
  {
   "cell_type": "markdown",
   "metadata": {},
   "source": [
    "### Test the model"
   ]
  },
  {
   "cell_type": "code",
   "execution_count": 79,
   "metadata": {},
   "outputs": [],
   "source": [
    "import itertools"
   ]
  },
  {
   "cell_type": "code",
   "execution_count": 163,
   "metadata": {},
   "outputs": [],
   "source": [
    "x, y = next(itertools.islice(iter(val_dl), 25, None))\n",
    "probs = learn.model(V(x))"
   ]
  },
  {
   "cell_type": "code",
   "execution_count": 164,
   "metadata": {},
   "outputs": [
    {
     "data": {
      "text/plain": [
       "torch.Size([18, 187, 17573])"
      ]
     },
     "execution_count": 164,
     "metadata": {},
     "output_type": "execute_result"
    }
   ],
   "source": [
    "probs.shape"
   ]
  },
  {
   "cell_type": "code",
   "execution_count": 165,
   "metadata": {},
   "outputs": [],
   "source": [
    "preds = to_np(probs.max(2)[1])"
   ]
  },
  {
   "cell_type": "code",
   "execution_count": 167,
   "metadata": {},
   "outputs": [
    {
     "name": "stdout",
     "output_type": "stream",
     "text": [
      "qu' est ce que l ' t_up ipv ? _eos_\n",
      "what is t_up api ? _eos_\n",
      "what is the t_up ? _eos_\n",
      "\n",
      "qu' entend - on par autres méthodes de déclaration ? _eos_\n",
      "what is alternate reporting ? _eos_\n",
      "what are other other ? ? _eos_\n",
      "\n",
      "que montrent - elles ? _eos_\n",
      "what does it show ? _eos_\n",
      "what do they do ? _eos_\n",
      "\n",
      "qui est en conflit ? _eos_\n",
      "who is in conflict ? _eos_\n",
      "who is conflict ? _eos_\n",
      "\n",
      "pourquoi encourager davantage la recherche ? _eos_\n",
      "why encourage more research ? _eos_\n",
      "why encourage more promote research ? _eos_\n",
      "\n",
      "qui sont les vulnérables ? _eos_\n",
      "who are the vulnerable ? _eos_\n",
      "who are vulnerable ? ?\n",
      "\n",
      "pourquoi encourager davantage la recherché ? _eos_\n",
      "why encourage more research ? _eos_\n",
      "why encourage we more ? _eos_ _eos_\n",
      "\n",
      "qu’ est -ce que des données identifiables ? _eos_\n",
      "what is identifiable data ? _eos_\n",
      "what is the ? ? _eos_\n",
      "\n",
      "pourquoi était - il l' adversaire de sir john ? _eos_\n",
      "why were they opponents ? _eos_\n",
      "why was he shoemaker ’s ? ? _eos_\n",
      "\n",
      "qu' est -ce que l' admissibilité partagée ? _eos_\n",
      "what is shared eligibility ? _eos_\n",
      "what is the - eligibility ?\n",
      "\n"
     ]
    }
   ],
   "source": [
    "start = 110\n",
    "for i in range(start, start + 10):\n",
    "    print(' '.join([fr_itos[o] for o in x[:, i] if o != 1]))  # Input\n",
    "    print(' '.join([en_itos[o] for o in y[:, i] if o != 1]))  # Target\n",
    "    print(' '.join([en_itos[o] for o in preds[:, i] if o != 1]))  # Prediction\n",
    "    print()"
   ]
  },
  {
   "cell_type": "markdown",
   "metadata": {},
   "source": [
    "## Bidirectional encoder"
   ]
  },
  {
   "cell_type": "code",
   "execution_count": 168,
   "metadata": {},
   "outputs": [],
   "source": [
    "class Seq2SeqRNNBidirectional(nn.Module):\n",
    "    def __init__(self, vecs_enc, itos_enc, emb_sz_enc, vecs_dec, itos_dec, emb_sz_dec, nh, out_seqlen, nl=2):\n",
    "        super().__init__()\n",
    "        self.nh, self.nl, self.out_seqlen = nh, nl, out_seqlen\n",
    "        \n",
    "        # Encoder\n",
    "        self.emb_enc = create_emb(vecs_enc, itos_enc, emb_sz_enc)\n",
    "        self.emb_enc_drop = nn.Dropout(0.15)\n",
    "        self.rnn_enc = nn.GRU(emb_sz_enc, nh, num_layers=nl, dropout=0.25, bidirectional=True)\n",
    "        # sz 300 in, sz 256 out\n",
    "        self.outp_enc = nn.Linear(2 * nh, emb_sz_dec, bias=False)  # *2 because of bidirectional\n",
    "        # sz 256 in, sz 300 out\n",
    "        self.drop_enc = nn.Dropout(0.05)\n",
    "        \n",
    "        # Decoder\n",
    "        self.emb_dec = create_emb(vecs_dec, itos_dec, emb_sz_dec)\n",
    "        self.rnn_dec = nn.GRU(emb_sz_dec, emb_sz_dec, num_layers=nl, dropout=0.1)  # square to enable weight tying\n",
    "        self.out_drop = nn.Dropout(0.35)                                           # sz 300 in, 300 out\n",
    "        self.out = nn.Linear(emb_sz_dec, len(itos_dec))\n",
    "        self.out.weight.data = self.emb_dec.weight.data                            # weight tying! not transposed?\n",
    "        \n",
    "    def forward(self, inp):\n",
    "        seqlen, bs = inp.size()\n",
    "        \n",
    "        # Encoder\n",
    "        h = self.initHidden(bs)\n",
    "        emb = self.emb_enc_drop(self.emb_enc(inp))\n",
    "        enc_outp, h = self.rnn_enc(emb, h)\n",
    "        # pdb.set_trace()\n",
    "        h = h.view(2,2,bs,-1).permute(0,2,1,3).contiguous().view(2,bs,-1)\n",
    "        h = self.outp_enc(self.drop_enc(h))  # h[1] is same as enc_outp[-1]!\n",
    "\n",
    "        # Decoder\n",
    "        dec_inp = V(torch.zeros(bs).long())  # 0 is 'beginning of seq' token\n",
    "        res = []\n",
    "        for i in range(self.out_seqlen):\n",
    "            emb = self.emb_dec(dec_inp).unsqueeze(0)  # adds unit axis at beginning so that rnn 'loops' once\n",
    "            outp, h = self.rnn_dec(emb, h)  # 'loops' once\n",
    "            outp = self.out(self.out_drop(outp[0]))  # 0 because 'loops' once, predictions for words\n",
    "            res.append(outp)\n",
    "            dec_inp = V(outp.data.max(1)[1])  # [1] to get argmax\n",
    "            if (dec_inp == 1).all(): break    # if all sentences in the minibatch have _pad_ as input, break\n",
    "        return torch.stack(res)\n",
    "        \n",
    "    def initHidden(self, bs):\n",
    "        return V(torch.zeros(self.nl * 2, bs, self.nh))  # because of bidirectional"
   ]
  },
  {
   "cell_type": "code",
   "execution_count": 171,
   "metadata": {},
   "outputs": [
    {
     "name": "stdout",
     "output_type": "stream",
     "text": [
      "3097 ['l’', \"d'\", 't_up', 'd’', \"qu'\"]\n",
      "1285 [\"'s\", '’s', \"n't\", 'n’t', ':']\n"
     ]
    }
   ],
   "source": [
    "rnn = Seq2SeqRNN(fr_vec_dict, fr_itos, dim_fr_vec, en_vec_dict, en_itos, dim_en_vec, n_hid, en_len_99)\n",
    "learn = Learner(modeldata, SingleModel(to_gpu(rnn)), opt_fn=opt_fn)\n",
    "learn.crit = Seq2SeqLoss"
   ]
  },
  {
   "cell_type": "code",
   "execution_count": 172,
   "metadata": {},
   "outputs": [
    {
     "data": {
      "application/vnd.jupyter.widget-view+json": {
       "model_id": "1b58c126f38e41778a02de0927b4ed3c",
       "version_major": 2,
       "version_minor": 0
      },
      "text/plain": [
       "HBox(children=(IntProgress(value=0, description='Epoch', max=12), HTML(value='')))"
      ]
     },
     "metadata": {},
     "output_type": "display_data"
    },
    {
     "name": "stdout",
     "output_type": "stream",
     "text": [
      "epoch      trn_loss   val_loss                              \n",
      "    0      5.267118   5.180488  \n",
      "    1      4.31144    4.448733                              \n",
      "    2      3.889166   4.067809                              \n",
      "    3      3.632571   3.874861                              \n",
      "    4      3.259331   3.805607                              \n",
      "    5      3.262788   3.709997                              \n",
      "    6      3.083301   3.682233                              \n",
      "    7      3.000043   3.629029                              \n",
      "    8      3.079843   3.577867                              \n",
      "    9      2.810955   3.538162                              \n",
      "    10     2.795676   3.544407                              \n",
      "    11     2.611297   3.525392                              \n",
      "\n"
     ]
    },
    {
     "data": {
      "text/plain": [
       "[3.525392242647567]"
      ]
     },
     "execution_count": 172,
     "metadata": {},
     "output_type": "execute_result"
    }
   ],
   "source": [
    "learn.fit(lr, n_cycle=1, cycle_len=12, use_clr=(20, 10))"
   ]
  },
  {
   "cell_type": "markdown",
   "metadata": {},
   "source": [
    "Without bidirectional the final loss was 3.57"
   ]
  },
  {
   "cell_type": "code",
   "execution_count": null,
   "metadata": {},
   "outputs": [],
   "source": [
    "learn.save('bidirectional_model')"
   ]
  },
  {
   "cell_type": "code",
   "execution_count": null,
   "metadata": {},
   "outputs": [],
   "source": [
    "learn.load('bidirectional_model')"
   ]
  },
  {
   "cell_type": "markdown",
   "metadata": {},
   "source": [
    "## Teacher forcing (without bidirectional for now)\n",
    "**Idea:** Especially in the beginning the model predicts only garbage. Let's kickstart training by whispering some answers to it just as a teacher might do during an oral exam.\n",
    "\n",
    "We reduce the teacher forcing probability over time. In order to do that we create a new `Seq2SeqStepper` and override the `step` method of `Stepper`."
   ]
  },
  {
   "cell_type": "code",
   "execution_count": 80,
   "metadata": {},
   "outputs": [],
   "source": [
    "class Seq2SeqStepper(Stepper):\n",
    "    def step(self, xs, y, epoch):\n",
    "        # This line implements the decay of the teacher forcing prob\n",
    "        self.m.pr_force = (10-epoch)*0.1 if epoch<10 else 0\n",
    "        \n",
    "        # The rest ist just the stepper method from the library\n",
    "        xtra = []\n",
    "        output = self.m(*xs, y)\n",
    "        if isinstance(output,tuple): output,*xtra = output\n",
    "        self.opt.zero_grad()\n",
    "        loss = raw_loss = self.crit(output, y)\n",
    "        if self.reg_fn: loss = self.reg_fn(output, xtra, raw_loss)\n",
    "        loss.backward()\n",
    "        if self.clip:   # Gradient clipping\n",
    "            nn.utils.clip_grad_norm(trainable_params_(self.m), self.clip)\n",
    "        self.opt.step()\n",
    "        return raw_loss.data[0]"
   ]
  },
  {
   "cell_type": "code",
   "execution_count": 187,
   "metadata": {},
   "outputs": [],
   "source": [
    "class Seq2SeqRNNTeacherForcing(nn.Module):\n",
    "    def __init__(self, vecs_enc, itos_enc, emb_sz_enc, vecs_dec, itos_dec, emb_sz_dec, nh, out_seqlen, nl=2):\n",
    "        super().__init__()\n",
    "        self.nh, self.nl, self.out_seqlen = nh, nl, out_seqlen\n",
    "        \n",
    "        # Encoder\n",
    "        self.emb_enc = create_emb(vecs_enc, itos_enc, emb_sz_enc)\n",
    "        self.emb_enc_drop = nn.Dropout(0.15)\n",
    "        self.rnn_enc = nn.GRU(emb_sz_enc, nh, num_layers=nl, dropout=0.25)  # sz 300 in, sz 256 out\n",
    "        self.outp_enc = nn.Linear(nh, emb_sz_dec, bias=False)               # sz 256 in, sz 300 out\n",
    "        \n",
    "        # Decoder\n",
    "        self.emb_dec = create_emb(vecs_dec, itos_dec, emb_sz_dec)\n",
    "        self.rnn_dec = nn.GRU(emb_sz_dec, emb_sz_dec, num_layers=nl, dropout=0.1)  # square to enable weight tying\n",
    "        self.out_drop = nn.Dropout(0.35)                                           # sz 300 in, 300 out\n",
    "        self.out = nn.Linear(emb_sz_dec, len(itos_dec))\n",
    "        self.out.weight.data = self.emb_dec.weight.data                            # weight tying! not transposed?\n",
    "        \n",
    "        self.pr_force = 1. ### Teacher forcing ###\n",
    "        \n",
    "    def forward(self, inp, y=None):\n",
    "        seqlen, bs = inp.size()\n",
    "        \n",
    "        # Encoder\n",
    "        h = self.initHidden(bs)\n",
    "        emb = self.emb_enc_drop(self.emb_enc(inp))\n",
    "        enc_outp, h = self.rnn_enc(emb, h)\n",
    "        # pdb.set_trace()\n",
    "        h = self.outp_enc(h)  # h[1] is same as enc_outp[-1]!\n",
    "\n",
    "        # Decoder\n",
    "        dec_inp = V(torch.zeros(bs).long())  # 0 is 'beginning of seq' token\n",
    "        res = []\n",
    "        for i in range(self.out_seqlen):\n",
    "            emb = self.emb_dec(dec_inp).unsqueeze(0)  # adds unit axis at beginning so that rnn 'loops' once\n",
    "            outp, h = self.rnn_dec(emb, h)  # 'loops' once\n",
    "            outp = self.out(self.out_drop(outp[0]))  # 0 because 'loops' once, predictions for words\n",
    "            res.append(outp)\n",
    "            dec_inp = V(outp.data.max(1)[1])  # [1] to get argmax\n",
    "            if (dec_inp == 1).all(): break    # if all sentences in the minibatch have _pad_ as input, break\n",
    "                \n",
    "            if (y is not None) and (random.random() < self.pr_force):\n",
    "                if i >= len(y): break  # predicted seq is already longer than y => nothing to whisper\n",
    "                dec_inp = y[i]         ### Teacher forcing ###\n",
    "            \n",
    "        return torch.stack(res)\n",
    "        \n",
    "    def initHidden(self, bs):\n",
    "        return V(torch.zeros(self.nl, bs, self.nh))"
   ]
  },
  {
   "cell_type": "code",
   "execution_count": 190,
   "metadata": {},
   "outputs": [
    {
     "name": "stdout",
     "output_type": "stream",
     "text": [
      "3097 ['l’', \"d'\", 't_up', 'd’', \"qu'\"]\n",
      "1285 [\"'s\", '’s', \"n't\", 'n’t', ':']\n"
     ]
    }
   ],
   "source": [
    "rnn = Seq2SeqRNNTeacherForcing(fr_vec_dict, fr_itos, dim_fr_vec, en_vec_dict, en_itos, dim_en_vec, n_hid, en_len_99)\n",
    "learn = Learner(modeldata, SingleModel(to_gpu(rnn)), opt_fn=opt_fn)\n",
    "learn.crit = Seq2SeqLoss"
   ]
  },
  {
   "cell_type": "code",
   "execution_count": 191,
   "metadata": {},
   "outputs": [
    {
     "data": {
      "application/vnd.jupyter.widget-view+json": {
       "model_id": "2520c8150c4f4e30b40da1fae61ecc36",
       "version_major": 2,
       "version_minor": 0
      },
      "text/plain": [
       "HBox(children=(IntProgress(value=0, description='Epoch', max=12), HTML(value='')))"
      ]
     },
     "metadata": {},
     "output_type": "display_data"
    },
    {
     "name": "stdout",
     "output_type": "stream",
     "text": [
      "  1%|          | 3/362 [00:00<00:35,  9.99it/s, loss=tensor(10.9706, device='cuda:0')]"
     ]
    },
    {
     "name": "stderr",
     "output_type": "stream",
     "text": [
      "/home/fabiograetz/anaconda3/envs/deeplearning/lib/python3.6/site-packages/ipykernel/__main__.py:17: UserWarning: invalid index of a 0-dim tensor. This will be an error in PyTorch 0.5. Use tensor.item() to convert a 0-dim tensor to a Python number\n"
     ]
    },
    {
     "name": "stdout",
     "output_type": "stream",
     "text": [
      "epoch      trn_loss   val_loss                                                         \n",
      "    0      3.798883   11.010717 \n",
      "    1      3.230599   7.161752                                                         \n",
      "    2      3.058165   5.452962                                                         \n",
      "    3      3.285037   4.634273                                                         \n",
      "    4      2.992541   4.289666                                                         \n",
      "    5      2.89953    4.058496                                                         \n",
      "    6      2.951971   3.809111                                                         \n",
      "    7      2.826471   3.737335                                                         \n",
      "    8      2.820316   3.596977                                                         \n",
      "    9      3.075896   3.557067                                                         \n",
      "    10     2.818115   3.518843                                                         \n",
      "    11     2.707423   3.508829                                                         \n",
      "\n"
     ]
    },
    {
     "data": {
      "text/plain": [
       "[3.508829193894968]"
      ]
     },
     "execution_count": 191,
     "metadata": {},
     "output_type": "execute_result"
    }
   ],
   "source": [
    "learn.fit(lr, n_cycle=1, cycle_len=12, use_clr=(20, 10), stepper=Seq2SeqStepper)"
   ]
  },
  {
   "cell_type": "markdown",
   "metadata": {},
   "source": [
    "1. Without bidirectional and teacher forcing the final loss was 3.57\n",
    "1. Without teacher forcing but with bidirectional the final loss was 3.525\n",
    "\n",
    "Interesting question: why is the validation loss so high initially compared to the previous tries?"
   ]
  },
  {
   "cell_type": "code",
   "execution_count": 192,
   "metadata": {},
   "outputs": [],
   "source": [
    "learn.save('teacher_forcing_model')"
   ]
  },
  {
   "cell_type": "code",
   "execution_count": 193,
   "metadata": {},
   "outputs": [],
   "source": [
    "learn.load('teacher_forcing_model')"
   ]
  },
  {
   "cell_type": "markdown",
   "metadata": {},
   "source": [
    "## Attention"
   ]
  },
  {
   "cell_type": "code",
   "execution_count": 83,
   "metadata": {},
   "outputs": [],
   "source": [
    "def random_tensor(*sz):\n",
    "    return torch.randn(sz)/math.sqrt(sz[0])  # division by sqrt is initialization\n",
    "def random_param(*sz):\n",
    "    return nn.Parameter(random_tensor(*sz))"
   ]
  },
  {
   "cell_type": "code",
   "execution_count": 341,
   "metadata": {},
   "outputs": [],
   "source": [
    "class Seq2SeqRNNAttentionModel(nn.Module):\n",
    "    def __init__(self, vecs_enc, itos_enc, emb_sz_enc, vecs_dec, itos_dec, emb_sz_dec, nh, out_seqlen, nl=2):\n",
    "        super().__init__()\n",
    "        self.nh, self.nl, self.out_seqlen = nh, nl, out_seqlen\n",
    "        \n",
    "        # Encoder\n",
    "        self.emb_enc = create_emb(vecs_enc, itos_enc, emb_sz_enc)\n",
    "        self.emb_enc_drop = nn.Dropout(0.15)\n",
    "        self.rnn_enc = nn.GRU(emb_sz_enc, nh, num_layers=nl, dropout=0.25)\n",
    "        self.outp_enc = nn.Linear(nh, emb_sz_dec, bias=False)\n",
    "        \n",
    "        # Decoder\n",
    "        self.emb_dec = create_emb(vecs_dec, itos_dec, emb_sz_dec)\n",
    "        self.rnn_dec = nn.GRU(emb_sz_dec, emb_sz_dec, num_layers=nl, dropout=0.1)\n",
    "        self.out_drop = nn.Dropout(0.35)\n",
    "        self.out = nn.Linear(emb_sz_dec, len(itos_dec))\n",
    "        self.out.weight.data = self.emb_dec.weight.data  # weight tying!\n",
    "        \n",
    "        # Attention\n",
    "        self.W1 = random_param(nh, emb_sz_dec)\n",
    "        self.l2 = nn.Linear(emb_sz_dec, emb_sz_dec)\n",
    "        self.l3 = nn.Linear(emb_sz_dec + nh, emb_sz_dec)\n",
    "        self.V = random_param(emb_sz_dec)\n",
    "        \n",
    "        self.pr_force = 1. ### Teacher forcing ###\n",
    "        \n",
    "    def forward(self, inp, y=None, ret_attn=False):\n",
    "        seqlen, bs = inp.size()\n",
    "        \n",
    "        # Encoder\n",
    "        h = self.initHidden(bs)\n",
    "        emb = self.emb_enc_drop(self.emb_enc(inp))\n",
    "        enc_outp, h = self.rnn_enc(emb, h)  # h[1] is same as enc_outp[-1]!\n",
    "        h = self.outp_enc(h)  # from hidden size to emb_sz_dec\n",
    "        \n",
    "        dec_inp = V(torch.zeros(bs).long())  # '_bos_' token for every seq in minibatch\n",
    "        res, attns = [], []\n",
    "        # See Luong et al 2015 section 3.1 equation 'score(h_t, \\bar h_s)'\n",
    "        # Multiply all hidden states (\\bar h_s) of the encoder with Matrix W_alpha\n",
    "        w1 = enc_outp @ self.W1\n",
    "        # I think that this implementation is slightly different from concat in Luong et al 2015\n",
    "        # because they concat the hidden states and then apply a single matrix multiplication.\n",
    "        # Here we have two different matrices with output size emb_sz_dec, apply them first\n",
    "        # and then concatenate\n",
    "        for i in range(self.out_seqlen):\n",
    "            \n",
    "            # Attention\n",
    "            w2 = self.l2(h[-1])  # $W_alpha$ times $h_t$ in Luong et al\n",
    "            u = F.tanh(w1 + w2)\n",
    "            a = F.softmax(u @ self.V, 0)  # See equation 7 in Luong et al, V is $v_a^T$\n",
    "            \n",
    "            attns.append(a)\n",
    "            c_t = (a.unsqueeze(2) * enc_outp).sum(0)  # context vector = weighted sum of encoder hidden states\n",
    "            \n",
    "            emb = self.emb_dec(dec_inp)\n",
    "            \n",
    "            weighted_enc = self.l3(torch.cat([emb, c_t], 1))  \n",
    "            \n",
    "            # ATTENTION\n",
    "            # In the Luong et al Paper things are slightly different\n",
    "            # the context vector c_t and the current decoder hidden state\n",
    "            # are concat together and then fed into a linear layer with tanh activation.\n",
    "            # The result called attentional hidden state is fed into a second linear layer with softmax\n",
    "            # activation which gives the probabilities for every token.\n",
    "            \n",
    "            # The fastai implementation takes the context vector c_t, concats it with the INPUT\n",
    "            # of the decoder (dec_inp) and feeds this into a linear layer.\n",
    "            # This input (dec_inp) that is 'mixed' with the context vector \n",
    "            # is then fed into the decoder rnn. The hidden state that is fed into\n",
    "            # the decoder rnn is NOT 'mixed' with the context vector as opposed to Long et al 2015\n",
    "            \n",
    "            outp, h = self.rnn_dec(weighted_enc.unsqueeze(0), h)  # 'loops' once because of unsqueeze(0)\n",
    "            outp = self.out(self.out_drop(outp[0]))  # 0 because 'loops' once, predictions for words\n",
    "            res.append(outp)\n",
    "            \n",
    "            dec_inp = V(outp.data.max(1)[1])  # [1] to get argmax\n",
    "            \n",
    "            if (dec_inp == 1).all(): break\n",
    "            if (y is not None) and (random.random() < self.pr_force):\n",
    "                if i >= len(y): break  # predicted seq is already longer than y => nothing to whisper\n",
    "                dec_inp = y[i]         ### Teacher forcing ###    \n",
    "            \n",
    "        res = torch.stack(res)\n",
    "        if ret_attn: res = res, torch.stack(attns)\n",
    "        return res\n",
    "        \n",
    "    def initHidden(self, bs):\n",
    "        return V(torch.zeros(self.nl, bs, self.nh))  # if all sentences in the minibatch have _pad_ as input, break"
   ]
  },
  {
   "cell_type": "code",
   "execution_count": 342,
   "metadata": {},
   "outputs": [
    {
     "name": "stdout",
     "output_type": "stream",
     "text": [
      "3097 ['l’', \"d'\", 't_up', 'd’', \"qu'\"]\n",
      "1285 [\"'s\", '’s', \"n't\", 'n’t', ':']\n"
     ]
    }
   ],
   "source": [
    "rnn = Seq2SeqRNNAttentionModel(fr_vec_dict, fr_itos, dim_fr_vec, en_vec_dict, en_itos, dim_en_vec, n_hid, en_len_99)\n",
    "learn = Learner(modeldata, SingleModel(to_gpu(rnn)), opt_fn=opt_fn)\n",
    "learn.crit = Seq2SeqLoss"
   ]
  },
  {
   "cell_type": "code",
   "execution_count": 87,
   "metadata": {},
   "outputs": [],
   "source": [
    "lr = 2e-3"
   ]
  },
  {
   "cell_type": "code",
   "execution_count": 344,
   "metadata": {},
   "outputs": [
    {
     "data": {
      "application/vnd.jupyter.widget-view+json": {
       "model_id": "1054e232a509413ba1bab9c8a0f68a3a",
       "version_major": 2,
       "version_minor": 0
      },
      "text/plain": [
       "HBox(children=(IntProgress(value=0, description='Epoch', max=12), HTML(value='')))"
      ]
     },
     "metadata": {},
     "output_type": "display_data"
    },
    {
     "name": "stdout",
     "output_type": "stream",
     "text": [
      "  0%|          | 1/362 [00:00<01:10,  5.10it/s, loss=tensor(9.8161, device='cuda:0')]"
     ]
    },
    {
     "name": "stderr",
     "output_type": "stream",
     "text": [
      "/home/fabiograetz/anaconda3/envs/deeplearning/lib/python3.6/site-packages/torch/nn/functional.py:995: UserWarning: nn.functional.tanh is deprecated. Use torch.tanh instead.\n",
      "  warnings.warn(\"nn.functional.tanh is deprecated. Use torch.tanh instead.\")\n",
      "/home/fabiograetz/anaconda3/envs/deeplearning/lib/python3.6/site-packages/ipykernel/__main__.py:17: UserWarning: invalid index of a 0-dim tensor. This will be an error in PyTorch 0.5. Use tensor.item() to convert a 0-dim tensor to a Python number\n"
     ]
    },
    {
     "name": "stdout",
     "output_type": "stream",
     "text": [
      " 14%|█▎        | 49/362 [00:03<00:22, 13.88it/s, loss=tensor(6.9882, device='cuda:0')]\n",
      "epoch      trn_loss   val_loss                                                         \n",
      "    0      4.191049   14.424263 \n",
      "    1      3.060529   5.687311                                                         \n",
      "    2      3.068104   5.495779                                                         \n",
      "    3      2.772898   4.794846                                                         \n",
      "    4      2.817782   4.081442                                                         \n",
      "    5      2.894404   4.314808                                                         \n",
      "    6      2.759051   3.80134                                                          \n",
      "    7      2.73077    3.705336                                                         \n",
      "    8      2.769924   3.509056                                                         \n",
      "    9      2.944073   3.422912                                                         \n",
      "    10     2.801802   3.399807                                                         \n",
      "    11     2.691524   3.3661                                                           \n",
      "\n"
     ]
    },
    {
     "data": {
      "text/plain": [
       "[3.3660999226120283]"
      ]
     },
     "execution_count": 344,
     "metadata": {},
     "output_type": "execute_result"
    }
   ],
   "source": [
    "learn.fit(lr, n_cycle=1, cycle_len=12, use_clr=(20, 10), stepper=Seq2SeqStepper)"
   ]
  },
  {
   "cell_type": "markdown",
   "metadata": {},
   "source": [
    "1. Without bidirectional and teacher forcing the final loss was 3.57\n",
    "1. Without teacher forcing but with bidirectional the final loss was 3.525\n",
    "1. With teacher forcing but without bidirectional the final loss was 3.508829\n",
    "\n",
    "Now we are down to 3.366.\n",
    "\n",
    "Now, let's combine all methods"
   ]
  },
  {
   "cell_type": "code",
   "execution_count": 346,
   "metadata": {},
   "outputs": [],
   "source": [
    "learn.save('attention_model')"
   ]
  },
  {
   "cell_type": "code",
   "execution_count": 347,
   "metadata": {},
   "outputs": [],
   "source": [
    "learn.load('attention_model')"
   ]
  },
  {
   "cell_type": "markdown",
   "metadata": {},
   "source": [
    "## Bidirectional, teacher forcing, and Attention"
   ]
  },
  {
   "cell_type": "code",
   "execution_count": 84,
   "metadata": {},
   "outputs": [],
   "source": [
    "class Seq2SeqRNNAll(nn.Module):\n",
    "    def __init__(self, vecs_enc, itos_enc, emb_sz_enc, vecs_dec, itos_dec, emb_sz_dec, nh, out_seqlen, nl=2):\n",
    "        super().__init__()\n",
    "        self.nh, self.nl, self.out_seqlen = nh, nl, out_seqlen\n",
    "        \n",
    "        # Encoder\n",
    "        self.emb_enc = create_emb(vecs_enc, itos_enc, emb_sz_enc)\n",
    "        self.emb_enc_drop = nn.Dropout(0.15)\n",
    "        self.rnn_enc = nn.GRU(emb_sz_enc, nh, num_layers=nl, dropout=0.25, bidirectional=True)\n",
    "        self.drop_enc = nn.Dropout(0.25)\n",
    "        self.outp_enc = nn.Linear(2 * nh, emb_sz_dec, bias=False)\n",
    "     \n",
    "        # Decoder\n",
    "        self.emb_dec = create_emb(vecs_dec, itos_dec, emb_sz_dec)\n",
    "        self.rnn_dec = nn.GRU(emb_sz_dec, emb_sz_dec, num_layers=nl, dropout=0.1)\n",
    "        self.out_drop = nn.Dropout(0.35)\n",
    "        self.out = nn.Linear(emb_sz_dec, len(itos_dec))\n",
    "        self.out.weight.data = self.emb_dec.weight.data  # weight tying!\n",
    "        \n",
    "        # Attention\n",
    "        self.W1 = random_param(2 * nh, emb_sz_dec)\n",
    "        self.l2 = nn.Linear(emb_sz_dec, emb_sz_dec)\n",
    "        self.l3 = nn.Linear(emb_sz_dec + nh * 2, emb_sz_dec)\n",
    "        self.V = random_param(emb_sz_dec)\n",
    "        \n",
    "        self.pr_force = 1. ### Teacher forcing ###\n",
    "        \n",
    "    def forward(self, inp, y=None, ret_attn=False):\n",
    "        seqlen, bs = inp.size()\n",
    "        \n",
    "        # Encoder\n",
    "        h = self.initHidden(bs)\n",
    "        emb = self.emb_enc_drop(self.emb_enc(inp))\n",
    "        enc_outp, h = self.rnn_enc(emb, h)\n",
    "        h = h.view(2,2,bs,-1).permute(0,2,1,3).contiguous().view(2,bs,-1)\n",
    "        h = self.outp_enc(self.drop_enc(h))\n",
    "        \n",
    "        dec_inp = V(torch.zeros(bs).long())  # '_bos_' token for every seq in minibatch\n",
    "        res, attns = [], []\n",
    "        # See Luong et al 2015 section 3.1 equation 'score(h_t, \\bar h_s)'\n",
    "        # Multiply all hidden states (\\bar h_s) of the encoder with Matrix W_alpha\n",
    "        w1 = enc_outp @ self.W1\n",
    "        # I think that this implementation is slightly different from concat in Luong et al 2015\n",
    "        # because they concat the hidden states and then apply a single matrix multiplication.\n",
    "        # Here we have two different matrices with output size emb_sz_dec, apply them first\n",
    "        # and then concatenate\n",
    "        for i in range(self.out_seqlen):\n",
    "            \n",
    "            # Attention\n",
    "            w2 = self.l2(h[-1])  # $W_alpha$ times $h_t$ in Luong et al\n",
    "            u = F.tanh(w1 + w2)\n",
    "            a = F.softmax(u @ self.V, 0)  # See equation 7 in Luong et al, V is $v_a^T$\n",
    "            \n",
    "            attns.append(a)\n",
    "            c_t = (a.unsqueeze(2) * enc_outp).sum(0)  # context vector = weighted sum of encoder hidden states\n",
    "            \n",
    "            emb = self.emb_dec(dec_inp)\n",
    "            \n",
    "            weighted_enc = self.l3(torch.cat([emb, c_t], 1))  \n",
    "            \n",
    "            # ATTENTION\n",
    "            # In the Luong et al Paper things are slightly different\n",
    "            # the context vector c_t and the current decoder hidden state\n",
    "            # are concat together and then fed into a linear layer with tanh activation.\n",
    "            # The result called attentional hidden state is fed into a second linear layer with softmax\n",
    "            # activation which gives the probabilities for every token.\n",
    "            \n",
    "            # The fastai implementation takes the context vector c_t, concats it with the INPUT\n",
    "            # of the decoder (dec_inp) and feeds this into a linear layer.\n",
    "            # This input (dec_inp) that is 'mixed' with the context vector \n",
    "            # is then fed into the decoder rnn. The hidden state that is fed into\n",
    "            # the decoder rnn is NOT 'mixed' with the context vector as opposed to Long et al 2015\n",
    "            \n",
    "            outp, h = self.rnn_dec(weighted_enc.unsqueeze(0), h)  # 'loops' once because of unsqueeze(0)\n",
    "            outp = self.out(self.out_drop(outp[0]))  # 0 because 'loops' once, predictions for words\n",
    "            res.append(outp)\n",
    "            \n",
    "            dec_inp = V(outp.data.max(1)[1])  # [1] to get argmax\n",
    "            \n",
    "            if (dec_inp == 1).all(): break\n",
    "            if (y is not None) and (random.random() < self.pr_force):\n",
    "                if i >= len(y): break  # predicted seq is already longer than y => nothing to whisper\n",
    "                dec_inp = y[i]         ### Teacher forcing ###    \n",
    "            \n",
    "        res = torch.stack(res)\n",
    "        if ret_attn: res = res, torch.stack(attns)\n",
    "        return res\n",
    "        \n",
    "    def initHidden(self, bs):\n",
    "        return V(torch.zeros(2 * self.nl, bs, self.nh))  # if all sentences in the minibatch have _pad_ as input, break"
   ]
  },
  {
   "cell_type": "code",
   "execution_count": 89,
   "metadata": {},
   "outputs": [
    {
     "name": "stdout",
     "output_type": "stream",
     "text": [
      "3097 ['l’', \"d'\", 't_up', 'd’', \"qu'\"]\n",
      "1285 [\"'s\", '’s', \"n't\", 'n’t', ':']\n"
     ]
    }
   ],
   "source": [
    "rnn = Seq2SeqRNNAll(fr_vec_dict, fr_itos, dim_fr_vec, en_vec_dict, en_itos, dim_en_vec, n_hid, en_len_99)\n",
    "learn = Learner(modeldata, SingleModel(to_gpu(rnn)), opt_fn=opt_fn)\n",
    "learn.crit = Seq2SeqLoss"
   ]
  },
  {
   "cell_type": "code",
   "execution_count": 90,
   "metadata": {},
   "outputs": [
    {
     "data": {
      "application/vnd.jupyter.widget-view+json": {
       "model_id": "2a73d76be29b47a0895ae0a80d5b0393",
       "version_major": 2,
       "version_minor": 0
      },
      "text/plain": [
       "HBox(children=(IntProgress(value=0, description='Epoch', max=12), HTML(value='')))"
      ]
     },
     "metadata": {},
     "output_type": "display_data"
    },
    {
     "name": "stdout",
     "output_type": "stream",
     "text": [
      "  0%|          | 1/362 [00:00<01:07,  5.39it/s, loss=tensor(10.5020, device='cuda:0')]"
     ]
    },
    {
     "name": "stderr",
     "output_type": "stream",
     "text": [
      "/home/fabiograetz/anaconda3/envs/deeplearning/lib/python3.6/site-packages/torch/nn/functional.py:995: UserWarning: nn.functional.tanh is deprecated. Use torch.tanh instead.\n",
      "  warnings.warn(\"nn.functional.tanh is deprecated. Use torch.tanh instead.\")\n",
      "/home/fabiograetz/anaconda3/envs/deeplearning/lib/python3.6/site-packages/ipykernel/__main__.py:17: UserWarning: invalid index of a 0-dim tensor. This will be an error in PyTorch 0.5. Use tensor.item() to convert a 0-dim tensor to a Python number\n"
     ]
    },
    {
     "name": "stdout",
     "output_type": "stream",
     "text": [
      "epoch      trn_loss   val_loss                                                         \n",
      "    0      3.432203   9.22238   \n",
      "    1      3.837512   8.494652                                                         \n",
      "    2      3.28513    6.461766                                                         \n",
      "    3      3.276439   5.529211                                                         \n",
      "    4      3.003907   6.119911                                                         \n",
      "    5      3.133035   4.014019                                                         \n",
      "    6      2.863579   3.807283                                                         \n",
      "    7      2.899184   3.745806                                                         \n",
      "    8      3.003482   3.547384                                                         \n",
      "    9      3.096476   3.428664                                                         \n",
      "    10     2.82979    3.357279                                                         \n",
      "    11     2.626434   3.325287                                                         \n",
      "\n"
     ]
    },
    {
     "data": {
      "text/plain": [
       "[3.3252869728976076]"
      ]
     },
     "execution_count": 90,
     "metadata": {},
     "output_type": "execute_result"
    }
   ],
   "source": [
    "learn.fit(lr, n_cycle=1, cycle_len=12, use_clr=(20, 10), stepper=Seq2SeqStepper)"
   ]
  },
  {
   "cell_type": "code",
   "execution_count": 126,
   "metadata": {},
   "outputs": [
    {
     "data": {
      "image/png": "[encoded data removed]",
      "text/plain": [
       "<Figure size 432x288 with 1 Axes>"
      ]
     },
     "metadata": {},
     "output_type": "display_data"
    }
   ],
   "source": [
    "learn.sched.plot_loss(n_skip=500)"
   ]
  },
  {
   "cell_type": "markdown",
   "metadata": {},
   "source": [
    "## Test"
   ]
  },
  {
   "cell_type": "code",
   "execution_count": 216,
   "metadata": {},
   "outputs": [
    {
     "name": "stderr",
     "output_type": "stream",
     "text": [
      "/home/fabiograetz/anaconda3/envs/deeplearning/lib/python3.6/site-packages/torch/nn/functional.py:995: UserWarning: nn.functional.tanh is deprecated. Use torch.tanh instead.\n",
      "  warnings.warn(\"nn.functional.tanh is deprecated. Use torch.tanh instead.\")\n"
     ]
    }
   ],
   "source": [
    "x, y = next(itertools.islice(iter(val_dl), 25, None))\n",
    "probs, attns = learn.model(V(x), ret_attn=True)"
   ]
  },
  {
   "cell_type": "code",
   "execution_count": 217,
   "metadata": {},
   "outputs": [],
   "source": [
    "preds = to_np(probs.max(2)[1])"
   ]
  },
  {
   "cell_type": "code",
   "execution_count": 218,
   "metadata": {},
   "outputs": [
    {
     "name": "stdout",
     "output_type": "stream",
     "text": [
      "pourquoi ? _eos_\n",
      "why the best source ? _eos_\n",
      "why ? _eos_\n",
      "\n",
      "à qui pouvez - vous faire confiance ? _eos_\n",
      "who can you trust ? _eos_\n",
      "who can you trust ? ? _eos_\n",
      "\n",
      "pourquoi ? _eos_\n",
      "why or why not ? _eos_\n",
      "why ? _eos_\n",
      "\n",
      "quels types de projets ? _eos_\n",
      "what types of projects ? _eos_\n",
      "what types of projects are _eos_\n",
      "\n",
      "qui et pourquoi ? _eos_\n",
      "which ones and why ? _eos_\n",
      "who and why why why ?\n",
      "\n",
      "quel est le ratio des étudiants étrangers et canadiens dans votre établissement ? _eos_\n",
      "why is this important ? _eos_\n",
      "what is the ratio of of foreign and and in in your institution ? _eos_\n",
      "\n",
      "qu’ est -ce que l’ intégrité commémorative ? _eos_\n",
      "what is commemorative integrity ? _eos_\n",
      "what is integrity integrity ? _eos_\n",
      "\n",
      "qu’ est -ce que le financement de projet ? _eos_\n",
      "what is project funding ? _eos_\n",
      "what is funding project ? _eos_\n",
      "\n",
      "quels sont les avantages ? _eos_\n",
      "what are the benefits ? _eos_\n",
      "what are the benefits ? _eos_\n",
      "\n",
      "pourquoi l’ inspection est-elle nécessaire ? _eos_\n",
      "why is inspection necessary ? _eos_\n",
      "why is the inspection necessary ? _eos_\n",
      "\n"
     ]
    }
   ],
   "source": [
    "start = 100\n",
    "for i in range(start, start + 10):\n",
    "    print(' '.join([fr_itos[o] for o in x[:, i] if o != 1]))  # Input\n",
    "    print(' '.join([en_itos[o] for o in y[:, i] if o != 1]))  # Target\n",
    "    print(' '.join([en_itos[o] for o in preds[:, i] if o != 1]))  # Prediction\n",
    "    print()"
   ]
  },
  {
   "cell_type": "code",
   "execution_count": 202,
   "metadata": {},
   "outputs": [
    {
     "name": "stderr",
     "output_type": "stream",
     "text": [
      "/home/fabiograetz/anaconda3/envs/deeplearning/lib/python3.6/site-packages/torch/nn/functional.py:995: UserWarning: nn.functional.tanh is deprecated. Use torch.tanh instead.\n",
      "  warnings.warn(\"nn.functional.tanh is deprecated. Use torch.tanh instead.\")\n"
     ]
    }
   ],
   "source": [
    "x, y = next(itertools.islice(iter(val_dl), 21, None))\n",
    "probs, attns = learn.model(V(x), ret_attn=True)\n",
    "preds = to_np(probs.max(2)[1])"
   ]
  },
  {
   "cell_type": "code",
   "execution_count": 211,
   "metadata": {},
   "outputs": [],
   "source": [
    "i = 103\n",
    "attn = to_np(attns[...,i])\n",
    "input_sequence = ' '.join([fr_itos[o] for o in x[:, i] if o != 1])\n",
    "output_words = [en_itos[o] for o in preds[:, i] if o != 1]"
   ]
  },
  {
   "cell_type": "code",
   "execution_count": 212,
   "metadata": {},
   "outputs": [
    {
     "data": {
      "text/plain": [
       "\"de quel type d' autorisation ai - je besoin ? _eos_\""
      ]
     },
     "execution_count": 212,
     "metadata": {},
     "output_type": "execute_result"
    }
   ],
   "source": [
    "input_sequence"
   ]
  },
  {
   "cell_type": "code",
   "execution_count": 213,
   "metadata": {},
   "outputs": [
    {
     "data": {
      "text/plain": [
       "['what', 'type', 'of', 'authorization', 'do', 'i', 'need', '?', '_eos_']"
      ]
     },
     "execution_count": 213,
     "metadata": {},
     "output_type": "execute_result"
    }
   ],
   "source": [
    "output_words"
   ]
  },
  {
   "cell_type": "code",
   "execution_count": 214,
   "metadata": {},
   "outputs": [
    {
     "data": {
      "image/png": "[encoded data removed]",
      "text/plain": [
       "<Figure size 1080x720 with 9 Axes>"
      ]
     },
     "metadata": {},
     "output_type": "display_data"
    }
   ],
   "source": [
    "fig, axes = plt.subplots(3, 3, figsize=(15, 10))\n",
    "for i,ax in enumerate(axes.flat):\n",
    "    ax.plot(attn[i])"
   ]
  },
  {
   "cell_type": "code",
   "execution_count": 224,
   "metadata": {},
   "outputs": [
    {
     "data": {
      "image/png": "[encoded data removed]",
      "text/plain": [
       "<Figure size 432x288 with 2 Axes>"
      ]
     },
     "metadata": {},
     "output_type": "display_data"
    }
   ],
   "source": [
    "import matplotlib.ticker as ticker\n",
    "\n",
    "fig = plt.figure()\n",
    "ax = fig.add_subplot(111)\n",
    "cax = ax.matshow(attn[:12,:15], cmap='bone')\n",
    "fig.colorbar(cax)\n",
    "\n",
    "# axes\n",
    "ax.set_xticklabels([''] + input_sequence.split(' ') + ['<EOS>'], rotation=90)\n",
    "ax.set_yticklabels([''] + output_words)\n",
    "# Show label at every tick\n",
    "ax.xaxis.set_major_locator(ticker.MultipleLocator(1))\n",
    "ax.yaxis.set_major_locator(ticker.MultipleLocator(1))"
   ]
  },
  {
   "cell_type": "markdown",
   "metadata": {},
   "source": [
    "Plot commands for attention from [here](https://pytorch.org/tutorials/intermediate/seq2seq_translation_tutorial.html#sphx-glr-intermediate-seq2seq-translation-tutorial-py)."
   ]
  },
  {
   "cell_type": "code",
   "execution_count": 219,
   "metadata": {},
   "outputs": [
    {
     "data": {
      "text/plain": [
       "(28, 33)"
      ]
     },
     "execution_count": 219,
     "metadata": {},
     "output_type": "execute_result"
    }
   ],
   "source": [
    "attn.shape"
   ]
  },
  {
   "cell_type": "code",
   "execution_count": null,
   "metadata": {},
   "outputs": [],
   "source": []
  }
 ],
 "metadata": {
  "kernelspec": {
   "display_name": "Python [conda env:deeplearning]",
   "language": "python",
   "name": "conda-env-deeplearning-py"
  },
  "language_info": {
   "codemirror_mode": {
    "name": "ipython",
    "version": 3
   },
   "file_extension": ".py",
   "mimetype": "text/x-python",
   "name": "python",
   "nbconvert_exporter": "python",
   "pygments_lexer": "ipython3",
   "version": "3.6.5"
  }
 },
 "nbformat": 4,
 "nbformat_minor": 2
}
