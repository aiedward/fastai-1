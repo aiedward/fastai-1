{
 "cells": [
  {
   "cell_type": "markdown",
   "metadata": {},
   "source": [
    "# Resnet from scratch - CIFAR 10"
   ]
  },
  {
   "cell_type": "code",
   "execution_count": 1,
   "metadata": {},
   "outputs": [],
   "source": [
    "%matplotlib inline\n",
    "%reload_ext autoreload\n",
    "%autoreload 2"
   ]
  },
  {
   "cell_type": "code",
   "execution_count": 2,
   "metadata": {},
   "outputs": [],
   "source": [
    "from fastai.conv_learner import *"
   ]
  },
  {
   "cell_type": "markdown",
   "metadata": {},
   "source": [
    "## Data"
   ]
  },
  {
   "cell_type": "code",
   "execution_count": 3,
   "metadata": {},
   "outputs": [],
   "source": [
    "PATH = \"data/cifar10/\"\n",
    "os.makedirs(PATH, exist_ok=True)"
   ]
  },
  {
   "cell_type": "markdown",
   "metadata": {},
   "source": [
    "### Calculate the mean and stdv of every channel for normalisation:"
   ]
  },
  {
   "cell_type": "code",
   "execution_count": 4,
   "metadata": {},
   "outputs": [],
   "source": [
    "folder_names = os.listdir(f'{PATH}train/')"
   ]
  },
  {
   "cell_type": "code",
   "execution_count": 5,
   "metadata": {},
   "outputs": [
    {
     "data": {
      "text/plain": [
       "('ship',\n",
       " 'cat',\n",
       " 'truck',\n",
       " 'bird',\n",
       " 'horse',\n",
       " 'automobile',\n",
       " 'frog',\n",
       " 'dog',\n",
       " 'airplane',\n",
       " 'deer')"
      ]
     },
     "execution_count": 5,
     "metadata": {},
     "output_type": "execute_result"
    }
   ],
   "source": [
    "classes = tuple(folder_names)\n",
    "classes"
   ]
  },
  {
   "cell_type": "code",
   "execution_count": 6,
   "metadata": {},
   "outputs": [],
   "source": [
    "file_names = [os.listdir(f'{PATH}train/' + folder) for folder in folder_names]"
   ]
  },
  {
   "cell_type": "code",
   "execution_count": 7,
   "metadata": {},
   "outputs": [],
   "source": [
    "file_names = [[folder_names[i] + \"/\" + file_name for file_name in file_names[i]] for i in range(len(folder_names))]\n",
    "file_names = list(itertools.chain(*file_names))"
   ]
  },
  {
   "cell_type": "code",
   "execution_count": 8,
   "metadata": {},
   "outputs": [],
   "source": [
    "images = np.array([np.array(Image.open(PATH + 'train/' + fname)) for fname in file_names])"
   ]
  },
  {
   "cell_type": "code",
   "execution_count": 9,
   "metadata": {},
   "outputs": [
    {
     "data": {
      "text/plain": [
       "(50000, 32, 32, 3)"
      ]
     },
     "execution_count": 9,
     "metadata": {},
     "output_type": "execute_result"
    }
   ],
   "source": [
    "images.shape"
   ]
  },
  {
   "cell_type": "code",
   "execution_count": 10,
   "metadata": {},
   "outputs": [],
   "source": [
    "stats = (np.array([images[:,:,:,0].mean()/255, images[:,:,:,1].mean()/255, images[:,:,:,2].mean()/255]), np.array([images[:,:,:,0].std()/255, images[:,:,:,1].std()/255, images[:,:,:,2].std()/255]))"
   ]
  },
  {
   "cell_type": "code",
   "execution_count": 11,
   "metadata": {},
   "outputs": [
    {
     "data": {
      "text/plain": [
       "(array([0.4914 , 0.48216, 0.44653]), array([0.24703, 0.24349, 0.26159]))"
      ]
     },
     "execution_count": 11,
     "metadata": {},
     "output_type": "execute_result"
    }
   ],
   "source": [
    "stats"
   ]
  },
  {
   "cell_type": "code",
   "execution_count": 12,
   "metadata": {},
   "outputs": [],
   "source": [
    "def get_data(sz,bs):\n",
    "    tfms = tfms_from_stats(stats, sz, aug_tfms=[RandomFlip()], pad=sz//8)\n",
    "    return ImageClassifierData.from_paths(PATH, val_name='test', tfms=tfms, bs=bs)"
   ]
  },
  {
   "cell_type": "code",
   "execution_count": 13,
   "metadata": {},
   "outputs": [],
   "source": [
    "bs = 256"
   ]
  },
  {
   "cell_type": "markdown",
   "metadata": {},
   "source": [
    "### Let's take a look at the data"
   ]
  },
  {
   "cell_type": "code",
   "execution_count": 19,
   "metadata": {},
   "outputs": [],
   "source": [
    "data = get_data(32, 4)"
   ]
  },
  {
   "cell_type": "code",
   "execution_count": 20,
   "metadata": {},
   "outputs": [],
   "source": [
    "x, y = next(iter(data.trn_dl))"
   ]
  },
  {
   "cell_type": "code",
   "execution_count": 21,
   "metadata": {},
   "outputs": [
    {
     "data": {
      "text/plain": [
       "<matplotlib.image.AxesImage at 0x7efe10a0b128>"
      ]
     },
     "execution_count": 21,
     "metadata": {},
     "output_type": "execute_result"
    },
    {
     "data": {
      "image/png": "[encoded data removed]",
      "text/plain": [
       "<Figure size 432x288 with 1 Axes>"
      ]
     },
     "metadata": {},
     "output_type": "display_data"
    }
   ],
   "source": [
    "plt.imshow(data.trn_ds.denorm(x)[0])"
   ]
  },
  {
   "cell_type": "code",
   "execution_count": 22,
   "metadata": {},
   "outputs": [
    {
     "data": {
      "text/plain": [
       "<matplotlib.image.AxesImage at 0x7efe1a537358>"
      ]
     },
     "execution_count": 22,
     "metadata": {},
     "output_type": "execute_result"
    },
    {
     "data": {
      "image/png": "[encoded data removed]",
      "text/plain": [
       "<Figure size 432x288 with 1 Axes>"
      ]
     },
     "metadata": {},
     "output_type": "display_data"
    }
   ],
   "source": [
    "plt.imshow(data.trn_ds.denorm(x)[1])"
   ]
  },
  {
   "cell_type": "code",
   "execution_count": 23,
   "metadata": {},
   "outputs": [
    {
     "data": {
      "text/plain": [
       "<matplotlib.image.AxesImage at 0x7efe1a290588>"
      ]
     },
     "execution_count": 23,
     "metadata": {},
     "output_type": "execute_result"
    },
    {
     "data": {
      "image/png": "[encoded data removed]",
      "text/plain": [
       "<Figure size 432x288 with 1 Axes>"
      ]
     },
     "metadata": {},
     "output_type": "display_data"
    }
   ],
   "source": [
    "plt.imshow(data.trn_ds.denorm(x)[2])"
   ]
  },
  {
   "cell_type": "markdown",
   "metadata": {},
   "source": [
    "## Fully connected model"
   ]
  },
  {
   "cell_type": "code",
   "execution_count": 24,
   "metadata": {},
   "outputs": [],
   "source": [
    "data = get_data(32, bs)"
   ]
  },
  {
   "cell_type": "code",
   "execution_count": 44,
   "metadata": {},
   "outputs": [],
   "source": [
    "class SimpleNet(nn.Module):\n",
    "    def __init__(self, layers):\n",
    "        super().__init__()\n",
    "        self.layers = nn.ModuleList([nn.Linear(layers[i], layers[i + 1]) for i in range(len(layers) - 1)])\n",
    "        \n",
    "    def forward(self, x):\n",
    "        # minibatch size conserved, rest flattened\n",
    "        x = x.view(x.size(0), -1)\n",
    "        for l in self.layers:\n",
    "            x = F.relu(l(x))\n",
    "        return F.log_softmax(x, dim=-1)"
   ]
  },
  {
   "cell_type": "code",
   "execution_count": 45,
   "metadata": {},
   "outputs": [],
   "source": [
    "learn = ConvLearner.from_model_data(SimpleNet([32*32*3, 40, 10]), data)"
   ]
  },
  {
   "cell_type": "code",
   "execution_count": 46,
   "metadata": {},
   "outputs": [
    {
     "data": {
      "text/plain": [
       "SimpleNet(\n",
       "  (layers): ModuleList(\n",
       "    (0): Linear(in_features=3072, out_features=40, bias=True)\n",
       "    (1): Linear(in_features=40, out_features=10, bias=True)\n",
       "  )\n",
       ")"
      ]
     },
     "execution_count": 46,
     "metadata": {},
     "output_type": "execute_result"
    }
   ],
   "source": [
    "learn"
   ]
  },
  {
   "cell_type": "code",
   "execution_count": 47,
   "metadata": {},
   "outputs": [
    {
     "data": {
      "text/plain": [
       "[122880, 40, 400, 10]"
      ]
     },
     "execution_count": 47,
     "metadata": {},
     "output_type": "execute_result"
    }
   ],
   "source": [
    "[l.numel() for l in learn.model.parameters()]\n",
    "# weights first layer, bias first layer, weights output layer, bias output layer"
   ]
  },
  {
   "cell_type": "code",
   "execution_count": 48,
   "metadata": {},
   "outputs": [
    {
     "data": {
      "text/plain": [
       "OrderedDict([('Linear-1',\n",
       "              OrderedDict([('input_shape', [-1, 3072]),\n",
       "                           ('output_shape', [-1, 40]),\n",
       "                           ('trainable', True),\n",
       "                           ('nb_params', 122920)])),\n",
       "             ('Linear-2',\n",
       "              OrderedDict([('input_shape', [-1, 40]),\n",
       "                           ('output_shape', [-1, 10]),\n",
       "                           ('trainable', True),\n",
       "                           ('nb_params', 410)]))])"
      ]
     },
     "execution_count": 48,
     "metadata": {},
     "output_type": "execute_result"
    }
   ],
   "source": [
    "learn.summary()"
   ]
  },
  {
   "cell_type": "code",
   "execution_count": 49,
   "metadata": {},
   "outputs": [
    {
     "data": {
      "application/vnd.jupyter.widget-view+json": {
       "model_id": "2776e85db9f2468593d1d1bc055dc105",
       "version_major": 2,
       "version_minor": 0
      },
      "text/plain": [
       "HBox(children=(IntProgress(value=0, description='Epoch', max=1), HTML(value='')))"
      ]
     },
     "metadata": {},
     "output_type": "display_data"
    },
    {
     "name": "stdout",
     "output_type": "stream",
     "text": [
      "epoch      trn_loss   val_loss   accuracy                   \n",
      "    0      2.244108   2.302585   0.1       \n",
      "\n"
     ]
    }
   ],
   "source": [
    "learn.lr_find()"
   ]
  },
  {
   "cell_type": "code",
   "execution_count": 50,
   "metadata": {},
   "outputs": [
    {
     "data": {
      "image/png": "[encoded data removed]",
      "text/plain": [
       "<Figure size 432x288 with 1 Axes>"
      ]
     },
     "metadata": {},
     "output_type": "display_data"
    }
   ],
   "source": [
    "learn.sched.plot()"
   ]
  },
  {
   "cell_type": "code",
   "execution_count": 52,
   "metadata": {},
   "outputs": [],
   "source": [
    "lr = 2e-2"
   ]
  },
  {
   "cell_type": "code",
   "execution_count": 53,
   "metadata": {},
   "outputs": [
    {
     "data": {
      "application/vnd.jupyter.widget-view+json": {
       "model_id": "9b5041136647432ea2d484146e8715aa",
       "version_major": 2,
       "version_minor": 0
      },
      "text/plain": [
       "HBox(children=(IntProgress(value=0, description='Epoch', max=2), HTML(value='')))"
      ]
     },
     "metadata": {},
     "output_type": "display_data"
    },
    {
     "name": "stdout",
     "output_type": "stream",
     "text": [
      "epoch      trn_loss   val_loss   accuracy                   \n",
      "    0      1.783729   1.671426   0.4073    \n",
      "    1      1.690334   1.572153   0.4398                     \n",
      "\n",
      "CPU times: user 2min 29s, sys: 23.7 s, total: 2min 53s\n",
      "Wall time: 34.3 s\n"
     ]
    },
    {
     "data": {
      "text/plain": [
       "[array([1.57215]), 0.4398]"
      ]
     },
     "execution_count": 53,
     "metadata": {},
     "output_type": "execute_result"
    }
   ],
   "source": [
    "%time learn.fit(lr, 2)"
   ]
  },
  {
   "cell_type": "code",
   "execution_count": 54,
   "metadata": {},
   "outputs": [
    {
     "data": {
      "application/vnd.jupyter.widget-view+json": {
       "model_id": "fdf82e1d7adc4949922f80981eda1f7d",
       "version_major": 2,
       "version_minor": 0
      },
      "text/plain": [
       "HBox(children=(IntProgress(value=0, description='Epoch', max=2), HTML(value='')))"
      ]
     },
     "metadata": {},
     "output_type": "display_data"
    },
    {
     "name": "stdout",
     "output_type": "stream",
     "text": [
      "epoch      trn_loss   val_loss   accuracy                   \n",
      "    0      1.590282   1.485381   0.4773    \n",
      "    1      1.569007   1.466308   0.4848                     \n",
      "\n",
      "CPU times: user 2min 26s, sys: 24.3 s, total: 2min 50s\n",
      "Wall time: 37.2 s\n"
     ]
    },
    {
     "data": {
      "text/plain": [
       "[array([1.46631]), 0.4848]"
      ]
     },
     "execution_count": 54,
     "metadata": {},
     "output_type": "execute_result"
    }
   ],
   "source": [
    "%time learn.fit(lr, 2, cycle_len=1)"
   ]
  },
  {
   "cell_type": "markdown",
   "metadata": {},
   "source": [
    "## ConvNet"
   ]
  },
  {
   "cell_type": "code",
   "execution_count": 55,
   "metadata": {},
   "outputs": [],
   "source": [
    "class ConvNet(nn.Module):\n",
    "    def __init__(self, layers, n_out):\n",
    "        super().__init__()\n",
    "        self.layers = nn.ModuleList([nn.Conv2d(in_channels=layers[i], out_channels=layers[i + 1], kernel_size=3, stride=2) for i in range(len(layers) - 1)])\n",
    "        self.pool = nn.AdaptiveMaxPool2d(output_size=1)\n",
    "        self.out = nn.Linear(layers[-1], n_out)\n",
    "        \n",
    "    def forward(self, x):\n",
    "        for l in self.layers:\n",
    "            x = F.relu(l(x))\n",
    "        x = self.pool(x)\n",
    "        x = x.view(x.size(0), -1)\n",
    "        return F.log_softmax(self.out(x), dim=-1)"
   ]
  },
  {
   "cell_type": "markdown",
   "metadata": {},
   "source": [
    "**AdaptiveMaxPool means that the output size is fixed while the input size can vary. One by one adaptive max pool usually used in the penultimate layer of fully convolutional architectures.**"
   ]
  },
  {
   "cell_type": "code",
   "execution_count": 63,
   "metadata": {},
   "outputs": [],
   "source": [
    "learn = ConvLearner.from_model_data(ConvNet([3, 20, 40, 80], 10), data)"
   ]
  },
  {
   "cell_type": "code",
   "execution_count": 64,
   "metadata": {
    "collapsed": true
   },
   "outputs": [
    {
     "data": {
      "text/plain": [
       "OrderedDict([('Conv2d-1',\n",
       "              OrderedDict([('input_shape', [-1, 3, 32, 32]),\n",
       "                           ('output_shape', [-1, 20, 15, 15]),\n",
       "                           ('trainable', True),\n",
       "                           ('nb_params', 560)])),\n",
       "             ('Conv2d-2',\n",
       "              OrderedDict([('input_shape', [-1, 20, 15, 15]),\n",
       "                           ('output_shape', [-1, 40, 7, 7]),\n",
       "                           ('trainable', True),\n",
       "                           ('nb_params', 7240)])),\n",
       "             ('Conv2d-3',\n",
       "              OrderedDict([('input_shape', [-1, 40, 7, 7]),\n",
       "                           ('output_shape', [-1, 80, 3, 3]),\n",
       "                           ('trainable', True),\n",
       "                           ('nb_params', 28880)])),\n",
       "             ('AdaptiveMaxPool2d-4',\n",
       "              OrderedDict([('input_shape', [-1, 80, 3, 3]),\n",
       "                           ('output_shape', [-1, 80, 1, 1]),\n",
       "                           ('nb_params', 0)])),\n",
       "             ('Linear-5',\n",
       "              OrderedDict([('input_shape', [-1, 80]),\n",
       "                           ('output_shape', [-1, 10]),\n",
       "                           ('trainable', True),\n",
       "                           ('nb_params', 810)]))])"
      ]
     },
     "execution_count": 64,
     "metadata": {},
     "output_type": "execute_result"
    }
   ],
   "source": [
    "learn.summary()"
   ]
  },
  {
   "cell_type": "code",
   "execution_count": 65,
   "metadata": {},
   "outputs": [
    {
     "data": {
      "application/vnd.jupyter.widget-view+json": {
       "model_id": "c47d3c79ae4b4a5382665a8254a9047b",
       "version_major": 2,
       "version_minor": 0
      },
      "text/plain": [
       "HBox(children=(IntProgress(value=0, description='Epoch', max=1), HTML(value='')))"
      ]
     },
     "metadata": {},
     "output_type": "display_data"
    },
    {
     "name": "stdout",
     "output_type": "stream",
     "text": [
      " 80%|███████▉  | 156/196 [00:12<00:03, 12.39it/s, loss=115] "
     ]
    }
   ],
   "source": [
    "learn.lr_find(end_lr=10)"
   ]
  },
  {
   "cell_type": "code",
   "execution_count": 66,
   "metadata": {},
   "outputs": [
    {
     "data": {
      "image/png": "[encoded data removed]",
      "text/plain": [
       "<Figure size 432x288 with 1 Axes>"
      ]
     },
     "metadata": {},
     "output_type": "display_data"
    }
   ],
   "source": [
    "learn.sched.plot()"
   ]
  },
  {
   "cell_type": "code",
   "execution_count": 67,
   "metadata": {},
   "outputs": [
    {
     "data": {
      "application/vnd.jupyter.widget-view+json": {
       "model_id": "16768c7ae08e43939fa2ec5271b33208",
       "version_major": 2,
       "version_minor": 0
      },
      "text/plain": [
       "HBox(children=(IntProgress(value=0, description='Epoch', max=2), HTML(value='')))"
      ]
     },
     "metadata": {},
     "output_type": "display_data"
    },
    {
     "name": "stdout",
     "output_type": "stream",
     "text": [
      " 16%|█▌        | 31/196 [00:03<00:16,  9.80it/s, loss=2.16]\n",
      "epoch      trn_loss   val_loss   accuracy                   \n",
      "    0      1.696057   1.590924   0.4153    \n",
      "    1      1.500337   1.424076   0.4918                     \n",
      "\n",
      "CPU times: user 2min 32s, sys: 24 s, total: 2min 56s\n",
      "Wall time: 34.3 s\n"
     ]
    },
    {
     "data": {
      "text/plain": [
       "[array([1.42408]), 0.4918]"
      ]
     },
     "execution_count": 67,
     "metadata": {},
     "output_type": "execute_result"
    }
   ],
   "source": [
    "% time learn.fit(1e-1, 2)"
   ]
  },
  {
   "cell_type": "code",
   "execution_count": 68,
   "metadata": {},
   "outputs": [
    {
     "data": {
      "application/vnd.jupyter.widget-view+json": {
       "model_id": "18f9c7d91ee443c7836955a71b82efbe",
       "version_major": 2,
       "version_minor": 0
      },
      "text/plain": [
       "HBox(children=(IntProgress(value=0, description='Epoch', max=4), HTML(value='')))"
      ]
     },
     "metadata": {},
     "output_type": "display_data"
    },
    {
     "name": "stdout",
     "output_type": "stream",
     "text": [
      "epoch      trn_loss   val_loss   accuracy                   \n",
      "    0      1.337106   1.252252   0.5489    \n",
      "    1      1.292416   1.207744   0.5662                     \n",
      "    2      1.249593   1.170348   0.5799                     \n",
      "    3      1.213217   1.136477   0.5938                     \n",
      "\n",
      "CPU times: user 5min 6s, sys: 47.8 s, total: 5min 53s\n",
      "Wall time: 1min 9s\n"
     ]
    },
    {
     "data": {
      "text/plain": [
       "[array([1.13648]), 0.5938]"
      ]
     },
     "execution_count": 68,
     "metadata": {},
     "output_type": "execute_result"
    }
   ],
   "source": [
    "% time learn.fit(1e-1, 4, cycle_len=1)"
   ]
  },
  {
   "cell_type": "markdown",
   "metadata": {},
   "source": [
    "Four times fewer parameters but 10% more accuracy."
   ]
  },
  {
   "cell_type": "markdown",
   "metadata": {},
   "source": [
    "## Let's add padding and refactor the last model to shorten the code"
   ]
  },
  {
   "cell_type": "markdown",
   "metadata": {},
   "source": [
    "Padding=1 makes sure we reduce 32x32 to 16x16 instead of 15x15 as in the last model."
   ]
  },
  {
   "cell_type": "code",
   "execution_count": 86,
   "metadata": {},
   "outputs": [],
   "source": [
    "# Put defaults in layer definition\n",
    "\n",
    "class ConvLayer(nn.Module):\n",
    "    def __init__(self, f_in, f_out):\n",
    "        super().__init__()\n",
    "        self.conv = nn.Conv2d(f_in, f_out, kernel_size=3, stride=2, padding=1)\n",
    "        \n",
    "    def forward(self, x):\n",
    "        return F.relu(self.conv(x))"
   ]
  },
  {
   "cell_type": "code",
   "execution_count": 81,
   "metadata": {},
   "outputs": [],
   "source": [
    "class ConvNet2(nn.Module):\n",
    "    def __init__(self, layers, n_out):\n",
    "        super().__init__()\n",
    "        self.layers = nn.ModuleList([ConvLayer(layers[i], layers[i + 1]) for i in range(len(layers) - 1)])\n",
    "        self.out = nn.Linear(layers[-1], n_out)\n",
    "        \n",
    "    def forward(self, x):\n",
    "        for l in self.layers:\n",
    "            x = l(x)\n",
    "        x = F.adaptive_max_pool2d(x, 1)\n",
    "        # preserve minibatch size, flatten rest\n",
    "        x = x.view(x.size(0), -1)\n",
    "        \n",
    "        return F.log_softmax(self.out(x), dim=-1)"
   ]
  },
  {
   "cell_type": "code",
   "execution_count": 82,
   "metadata": {},
   "outputs": [],
   "source": [
    "learn = ConvLearner.from_model_data(ConvNet2([3, 20, 40, 80], 10), data)"
   ]
  },
  {
   "cell_type": "code",
   "execution_count": 83,
   "metadata": {
    "collapsed": true
   },
   "outputs": [
    {
     "data": {
      "text/plain": [
       "OrderedDict([('Conv2d-1',\n",
       "              OrderedDict([('input_shape', [-1, 3, 32, 32]),\n",
       "                           ('output_shape', [-1, 20, 16, 16]),\n",
       "                           ('trainable', True),\n",
       "                           ('nb_params', 560)])),\n",
       "             ('ConvLayer-2',\n",
       "              OrderedDict([('input_shape', [-1, 3, 32, 32]),\n",
       "                           ('output_shape', [-1, 20, 16, 16]),\n",
       "                           ('nb_params', 0)])),\n",
       "             ('Conv2d-3',\n",
       "              OrderedDict([('input_shape', [-1, 20, 16, 16]),\n",
       "                           ('output_shape', [-1, 40, 8, 8]),\n",
       "                           ('trainable', True),\n",
       "                           ('nb_params', 7240)])),\n",
       "             ('ConvLayer-4',\n",
       "              OrderedDict([('input_shape', [-1, 20, 16, 16]),\n",
       "                           ('output_shape', [-1, 40, 8, 8]),\n",
       "                           ('nb_params', 0)])),\n",
       "             ('Conv2d-5',\n",
       "              OrderedDict([('input_shape', [-1, 40, 8, 8]),\n",
       "                           ('output_shape', [-1, 80, 4, 4]),\n",
       "                           ('trainable', True),\n",
       "                           ('nb_params', 28880)])),\n",
       "             ('ConvLayer-6',\n",
       "              OrderedDict([('input_shape', [-1, 40, 8, 8]),\n",
       "                           ('output_shape', [-1, 80, 4, 4]),\n",
       "                           ('nb_params', 0)])),\n",
       "             ('Linear-7',\n",
       "              OrderedDict([('input_shape', [-1, 80]),\n",
       "                           ('output_shape', [-1, 10]),\n",
       "                           ('trainable', True),\n",
       "                           ('nb_params', 810)]))])"
      ]
     },
     "execution_count": 83,
     "metadata": {},
     "output_type": "execute_result"
    }
   ],
   "source": [
    "learn.summary()"
   ]
  },
  {
   "cell_type": "code",
   "execution_count": 84,
   "metadata": {},
   "outputs": [
    {
     "data": {
      "application/vnd.jupyter.widget-view+json": {
       "model_id": "3afd38a302474f42bdcffbd3e61c6c04",
       "version_major": 2,
       "version_minor": 0
      },
      "text/plain": [
       "HBox(children=(IntProgress(value=0, description='Epoch', max=2), HTML(value='')))"
      ]
     },
     "metadata": {},
     "output_type": "display_data"
    },
    {
     "name": "stdout",
     "output_type": "stream",
     "text": [
      "epoch      trn_loss   val_loss   accuracy                   \n",
      "    0      1.702102   1.756182   0.3846    \n",
      "    1      1.510568   1.425706   0.4867                     \n",
      "\n",
      "CPU times: user 2min 33s, sys: 23.6 s, total: 2min 56s\n",
      "Wall time: 34.2 s\n"
     ]
    },
    {
     "data": {
      "text/plain": [
       "[array([1.42571]), 0.4867]"
      ]
     },
     "execution_count": 84,
     "metadata": {},
     "output_type": "execute_result"
    }
   ],
   "source": [
    "% time learn.fit(1e-1, 2)"
   ]
  },
  {
   "cell_type": "code",
   "execution_count": 85,
   "metadata": {},
   "outputs": [
    {
     "data": {
      "application/vnd.jupyter.widget-view+json": {
       "model_id": "20561b844eac4593b77394a7302d5ac2",
       "version_major": 2,
       "version_minor": 0
      },
      "text/plain": [
       "HBox(children=(IntProgress(value=0, description='Epoch', max=4), HTML(value='')))"
      ]
     },
     "metadata": {},
     "output_type": "display_data"
    },
    {
     "name": "stdout",
     "output_type": "stream",
     "text": [
      "epoch      trn_loss   val_loss   accuracy                   \n",
      "    0      1.300015   1.222579   0.5652    \n",
      "    1      1.253193   1.179739   0.5771                     \n",
      "    2      1.197974   1.141736   0.5916                     \n",
      "    3      1.173729   1.112343   0.6071                     \n",
      "\n",
      "CPU times: user 5min 8s, sys: 48.3 s, total: 5min 56s\n",
      "Wall time: 1min 9s\n"
     ]
    },
    {
     "data": {
      "text/plain": [
       "[array([1.11234]), 0.6071]"
      ]
     },
     "execution_count": 85,
     "metadata": {},
     "output_type": "execute_result"
    }
   ],
   "source": [
    "%time learn.fit(1e-1, 4, cycle_len=1)"
   ]
  },
  {
   "cell_type": "markdown",
   "metadata": {},
   "source": [
    "Problem: when trying to add more layers, the model stops being resilient. Either the gradients explode, or the learning rate has to be so small, that it takes forever to train.\n",
    "\n",
    "Solution: batch normalization"
   ]
  },
  {
   "cell_type": "markdown",
   "metadata": {},
   "source": [
    "## Batch normalization\n",
    "Proved to be crucial for training deep nets. The following model is going to be much deeper than the previous and still resilient to train.\n",
    "\n",
    "Normalizes every layer and controls that the activations don't exponentially grow or vanish.\n",
    "\n",
    "Instead of scaling a layer up (increasing every weight), SGD can simply increase the parameter m. Instead of shifting the weights up or down, it can increase or decrease a.\n",
    "\n",
    "1. More resilient training\n",
    "1. Allows larger learning rates\n",
    "1. Allows deeper nets\n",
    "1. Regularizes: often less dropout or weight decay necessary! The regularization probably comes from the fact that every minibatch is different, so that the mean and std deviation is different as well which adds noise..."
   ]
  },
  {
   "cell_type": "code",
   "execution_count": 185,
   "metadata": {},
   "outputs": [],
   "source": [
    "# nn.BatchNorm2d. Here we do it from scratch\n",
    "# Actually a simplified version. Full BatchNorm \n",
    "# uses exponentially decaying averages of mean and std\n",
    "# of the filters\n",
    "class BatchNormLayer(nn.Module):\n",
    "    def __init__(self, f_in, f_out, stride=2, kernel_size=3, padding=1):\n",
    "        super().__init__()\n",
    "        self.conv = nn.Conv2d(f_in, f_out, kernel_size=kernel_size, stride=stride, bias=False, padding=padding)\n",
    "        self.a = nn.Parameter(torch.zeros(f_out, 1, 1))\n",
    "        self.m = nn.Parameter(torch.ones(f_out, 1, 1))\n",
    "        \n",
    "    def forward(self, x):\n",
    "        x = F.relu(self.conv(x))\n",
    "        x_chan = x.transpose(0, 1).contiguous().view(x.size(1), -1)  # num of filters\n",
    "        if self.training:\n",
    "            # mean and std of each filter\n",
    "            self.means = x_chan.mean(1)[:, None, None]\n",
    "            self.stds  = x_chan.std(1)[:, None, None]\n",
    "        return (x-self.means) / self.stds * self.m + self.a\n",
    "# If this was really intended to be used one should probably divide by (self.stds + eps)"
   ]
  },
  {
   "cell_type": "code",
   "execution_count": 121,
   "metadata": {},
   "outputs": [],
   "source": [
    "class ConvBnNet(nn.Module):\n",
    "    def __init__(self, layers, n_out):\n",
    "        super().__init__()\n",
    "        self.conv1 = nn.Conv2d(3, layers[0], kernel_size=5, stride=1, padding=2)\n",
    "        self.layers = nn.ModuleList([BatchNormLayer(layers[i], layers[i + 1]) for i in range(len(layers) - 1)])\n",
    "        self.out = nn.Linear(layers[-1], n_out)\n",
    "        \n",
    "    def forward(self, x):\n",
    "        x = self.conv1(x)\n",
    "        for l in self.layers:\n",
    "            x = l(x)\n",
    "        x = F.adaptive_max_pool2d(x, 1)\n",
    "        # preserve minibatch size, flatten rest\n",
    "        x = x.view(x.size(0), -1)\n",
    "        \n",
    "        return F.log_softmax(self.out(x), dim=-1)"
   ]
  },
  {
   "cell_type": "code",
   "execution_count": 122,
   "metadata": {},
   "outputs": [],
   "source": [
    "learn = ConvLearner.from_model_data(ConvBnNet([10, 20, 40, 80, 160], 10), data)"
   ]
  },
  {
   "cell_type": "code",
   "execution_count": 123,
   "metadata": {
    "collapsed": true
   },
   "outputs": [
    {
     "data": {
      "text/plain": [
       "OrderedDict([('Conv2d-1',\n",
       "              OrderedDict([('input_shape', [-1, 3, 32, 32]),\n",
       "                           ('output_shape', [-1, 10, 32, 32]),\n",
       "                           ('trainable', True),\n",
       "                           ('nb_params', 760)])),\n",
       "             ('Conv2d-2',\n",
       "              OrderedDict([('input_shape', [-1, 10, 32, 32]),\n",
       "                           ('output_shape', [-1, 20, 16, 16]),\n",
       "                           ('trainable', True),\n",
       "                           ('nb_params', 1800)])),\n",
       "             ('BatchNormLayer-3',\n",
       "              OrderedDict([('input_shape', [-1, 10, 32, 32]),\n",
       "                           ('output_shape', [-1, 20, 16, 16]),\n",
       "                           ('nb_params', 0)])),\n",
       "             ('Conv2d-4',\n",
       "              OrderedDict([('input_shape', [-1, 20, 16, 16]),\n",
       "                           ('output_shape', [-1, 40, 8, 8]),\n",
       "                           ('trainable', True),\n",
       "                           ('nb_params', 7200)])),\n",
       "             ('BatchNormLayer-5',\n",
       "              OrderedDict([('input_shape', [-1, 20, 16, 16]),\n",
       "                           ('output_shape', [-1, 40, 8, 8]),\n",
       "                           ('nb_params', 0)])),\n",
       "             ('Conv2d-6',\n",
       "              OrderedDict([('input_shape', [-1, 40, 8, 8]),\n",
       "                           ('output_shape', [-1, 80, 4, 4]),\n",
       "                           ('trainable', True),\n",
       "                           ('nb_params', 28800)])),\n",
       "             ('BatchNormLayer-7',\n",
       "              OrderedDict([('input_shape', [-1, 40, 8, 8]),\n",
       "                           ('output_shape', [-1, 80, 4, 4]),\n",
       "                           ('nb_params', 0)])),\n",
       "             ('Conv2d-8',\n",
       "              OrderedDict([('input_shape', [-1, 80, 4, 4]),\n",
       "                           ('output_shape', [-1, 160, 2, 2]),\n",
       "                           ('trainable', True),\n",
       "                           ('nb_params', 115200)])),\n",
       "             ('BatchNormLayer-9',\n",
       "              OrderedDict([('input_shape', [-1, 80, 4, 4]),\n",
       "                           ('output_shape', [-1, 160, 2, 2]),\n",
       "                           ('nb_params', 0)])),\n",
       "             ('Linear-10',\n",
       "              OrderedDict([('input_shape', [-1, 160]),\n",
       "                           ('output_shape', [-1, 10]),\n",
       "                           ('trainable', True),\n",
       "                           ('nb_params', 1610)]))])"
      ]
     },
     "execution_count": 123,
     "metadata": {},
     "output_type": "execute_result"
    }
   ],
   "source": [
    "learn.summary()"
   ]
  },
  {
   "cell_type": "code",
   "execution_count": 124,
   "metadata": {},
   "outputs": [
    {
     "data": {
      "application/vnd.jupyter.widget-view+json": {
       "model_id": "1c8b07eff8594fbc88508405c73105a4",
       "version_major": 2,
       "version_minor": 0
      },
      "text/plain": [
       "HBox(children=(IntProgress(value=0, description='Epoch', max=1), HTML(value='')))"
      ]
     },
     "metadata": {},
     "output_type": "display_data"
    },
    {
     "name": "stdout",
     "output_type": "stream",
     "text": [
      " 78%|███████▊  | 153/196 [00:11<00:03, 13.01it/s, loss=nan] "
     ]
    }
   ],
   "source": [
    "learn.lr_find()"
   ]
  },
  {
   "cell_type": "code",
   "execution_count": 125,
   "metadata": {},
   "outputs": [
    {
     "data": {
      "image/png": "[encoded data removed]",
      "text/plain": [
       "<Figure size 432x288 with 1 Axes>"
      ]
     },
     "metadata": {},
     "output_type": "display_data"
    }
   ],
   "source": [
    "learn.sched.plot()"
   ]
  },
  {
   "cell_type": "code",
   "execution_count": 126,
   "metadata": {},
   "outputs": [
    {
     "data": {
      "application/vnd.jupyter.widget-view+json": {
       "model_id": "9436e6071fc441f3ae0c1b430cca241e",
       "version_major": 2,
       "version_minor": 0
      },
      "text/plain": [
       "HBox(children=(IntProgress(value=0, description='Epoch', max=2), HTML(value='')))"
      ]
     },
     "metadata": {},
     "output_type": "display_data"
    },
    {
     "name": "stdout",
     "output_type": "stream",
     "text": [
      " 23%|██▎       | 45/196 [00:03<00:13, 11.26it/s, loss=1.87]\n",
      "epoch      trn_loss   val_loss   accuracy                   \n",
      "    0      1.496147   1.390415   0.5005    \n",
      "    1      1.281947   1.167531   0.5787                     \n",
      "\n"
     ]
    },
    {
     "data": {
      "text/plain": [
       "[array([1.16753]), 0.5787]"
      ]
     },
     "execution_count": 126,
     "metadata": {},
     "output_type": "execute_result"
    }
   ],
   "source": [
    "learn.fit(3e-2, 2)"
   ]
  },
  {
   "cell_type": "code",
   "execution_count": 127,
   "metadata": {},
   "outputs": [
    {
     "data": {
      "application/vnd.jupyter.widget-view+json": {
       "model_id": "ecaba6b5884e4b239bd2eb66e3c56e3e",
       "version_major": 2,
       "version_minor": 0
      },
      "text/plain": [
       "HBox(children=(IntProgress(value=0, description='Epoch', max=4), HTML(value='')))"
      ]
     },
     "metadata": {},
     "output_type": "display_data"
    },
    {
     "name": "stdout",
     "output_type": "stream",
     "text": [
      "epoch      trn_loss   val_loss   accuracy                   \n",
      "    0      1.164448   1.060637   0.6258    \n",
      "    1      1.054636   0.933383   0.6709                     \n",
      "    2      0.960631   0.875445   0.6872                      \n",
      "    3      0.900813   0.824036   0.7091                      \n",
      "\n",
      "CPU times: user 6min 2s, sys: 48.6 s, total: 6min 51s\n",
      "Wall time: 1min 6s\n"
     ]
    },
    {
     "data": {
      "text/plain": [
       "[array([0.82404]), 0.7091]"
      ]
     },
     "execution_count": 127,
     "metadata": {},
     "output_type": "execute_result"
    }
   ],
   "source": [
    "%time learn.fit(1e-1, 4, cycle_len=1)"
   ]
  },
  {
   "cell_type": "code",
   "execution_count": 129,
   "metadata": {},
   "outputs": [
    {
     "data": {
      "application/vnd.jupyter.widget-view+json": {
       "model_id": "8f6566aaf0e844d7933a86929d79b1b2",
       "version_major": 2,
       "version_minor": 0
      },
      "text/plain": [
       "HBox(children=(IntProgress(value=0, description='Epoch', max=4), HTML(value='')))"
      ]
     },
     "metadata": {},
     "output_type": "display_data"
    },
    {
     "name": "stdout",
     "output_type": "stream",
     "text": [
      "epoch      trn_loss   val_loss   accuracy                    \n",
      "    0      0.848855   0.781855   0.7233    \n",
      "    1      0.807261   0.766067   0.7304                      \n",
      "    2      0.774059   0.756201   0.738                       \n",
      "    3      0.752608   0.735999   0.745                       \n",
      "\n",
      "CPU times: user 6min 2s, sys: 49.3 s, total: 6min 52s\n",
      "Wall time: 1min 6s\n"
     ]
    },
    {
     "data": {
      "text/plain": [
       "[array([0.736]), 0.745]"
      ]
     },
     "execution_count": 129,
     "metadata": {},
     "output_type": "execute_result"
    }
   ],
   "source": [
    "%time learn.fit(1e-1, 4, cycle_len=1)"
   ]
  },
  {
   "cell_type": "markdown",
   "metadata": {},
   "source": [
    "### Attention: make sure that your library does not update the BatchNorm parameters a and m when the all layers but the last are frozen. Happens in many libraries because they only check if in training mode but not if frozen. Fastai also allows to unfreeze earlier layers and keep the BatchNorm parameters frozen (bn_freeze). Works well when the data we finetune on is similiar to data the network was pretrained on."
   ]
  },
  {
   "cell_type": "markdown",
   "metadata": {},
   "source": [
    "## Deep BatchNorm model"
   ]
  },
  {
   "cell_type": "code",
   "execution_count": 139,
   "metadata": {},
   "outputs": [],
   "source": [
    "class ConvBnNet2(nn.Module):\n",
    "    def __init__(self, layers, n_out):\n",
    "        super().__init__()\n",
    "        \n",
    "        # first layer has a bigger filter:\n",
    "        # all modern architectures start with a larger\n",
    "        # filter like 5x5, 7x7 or even up to 11x11.\n",
    "        # stride is 1 and padding is kernel_size//2\n",
    "        # filter size will not change but more filters\n",
    "        #  -> richer input to the network\n",
    "        self.conv1 = nn.Conv2d(3, layers[0], kernel_size=5, stride=1, padding=2)\n",
    "        self.layers = nn.ModuleList([BatchNormLayer(layers[i], layers[i + 1]) for i in range(len(layers) - 1)])\n",
    "        self. layers2 = nn.ModuleList([BatchNormLayer(layers[i + 1], layers[i + 1], stride=1) for i in range(len(layers) - 1)])\n",
    "        # stride 1 => doesn't change the size (kernel_size=3, padding=1)\n",
    "        \n",
    "        self.out = nn.Linear(layers[-1], n_out)\n",
    "        \n",
    "    def forward(self, x):\n",
    "        x = self.conv1(x)\n",
    "        for l, l2 in zip(self.layers, self.layers2):\n",
    "            x = l(x)\n",
    "            x = l2(x)\n",
    "        x = F.adaptive_max_pool2d(x, 1)\n",
    "        x = x.view(x.size(0), -1)\n",
    "        return F.log_softmax(self.out(x), dim=-1)"
   ]
  },
  {
   "cell_type": "code",
   "execution_count": 140,
   "metadata": {},
   "outputs": [],
   "source": [
    "learn = ConvLearner.from_model_data(ConvBnNet2([10, 20, 40, 80, 160], 10), data)"
   ]
  },
  {
   "cell_type": "code",
   "execution_count": 141,
   "metadata": {},
   "outputs": [
    {
     "data": {
      "application/vnd.jupyter.widget-view+json": {
       "model_id": "f97a5695562344cf88b4207cb671d349",
       "version_major": 2,
       "version_minor": 0
      },
      "text/plain": [
       "HBox(children=(IntProgress(value=0, description='Epoch', max=2), HTML(value='')))"
      ]
     },
     "metadata": {},
     "output_type": "display_data"
    },
    {
     "name": "stdout",
     "output_type": "stream",
     "text": [
      "epoch      trn_loss   val_loss   accuracy                   \n",
      "    0      1.511038   1.369083   0.5021    \n",
      "    1      1.293975   1.217385   0.5575                     \n",
      "\n",
      "CPU times: user 3min 13s, sys: 25.4 s, total: 3min 39s\n",
      "Wall time: 35 s\n"
     ]
    },
    {
     "data": {
      "text/plain": [
       "[array([1.21739]), 0.5575]"
      ]
     },
     "execution_count": 141,
     "metadata": {},
     "output_type": "execute_result"
    }
   ],
   "source": [
    "% time learn.fit(1e-2, 2)"
   ]
  },
  {
   "cell_type": "code",
   "execution_count": 143,
   "metadata": {},
   "outputs": [
    {
     "data": {
      "application/vnd.jupyter.widget-view+json": {
       "model_id": "c95ba40ff1ff4d56afa18a44179d5753",
       "version_major": 2,
       "version_minor": 0
      },
      "text/plain": [
       "HBox(children=(IntProgress(value=0, description='Epoch', max=2), HTML(value='')))"
      ]
     },
     "metadata": {},
     "output_type": "display_data"
    },
    {
     "name": "stdout",
     "output_type": "stream",
     "text": [
      "epoch      trn_loss   val_loss   accuracy                    \n",
      "    0      0.980867   0.921074   0.6721    \n",
      "    1      0.914814   0.903012   0.6806                      \n",
      "\n",
      "CPU times: user 3min 16s, sys: 25.2 s, total: 3min 42s\n",
      "Wall time: 35.7 s\n"
     ]
    },
    {
     "data": {
      "text/plain": [
       "[array([0.90301]), 0.6806]"
      ]
     },
     "execution_count": 143,
     "metadata": {},
     "output_type": "execute_result"
    }
   ],
   "source": [
    "% time learn.fit(1e-2, 2, cycle_len=1)"
   ]
  },
  {
   "cell_type": "markdown",
   "metadata": {},
   "source": [
    "**Did not really help! Too deep to handle even for batchnorm (12 layers). Solution: *resnet* blocks**"
   ]
  },
  {
   "cell_type": "markdown",
   "metadata": {},
   "source": [
    "## Resnet"
   ]
  },
  {
   "cell_type": "markdown",
   "metadata": {},
   "source": [
    "Instead of $a_{i+1} = f(a_{i})$ calculate $a_{i+1} =a_{i} + f(a_{i})$. \n",
    "\n",
    "Network learns how much it has to add ontop of the activations of the current layer to calculate the activations of the next layer.\n",
    "\n",
    "$f(a_i) = \\underbrace{a_{i+1} - a_{i}}_{\\text{residual}}$\n",
    "\n",
    "Resnet layer tries to learn a set of conv filters that estimate the residual/error/how much it was off by and adds that to the activations of the pref layer.\n",
    "\n",
    "(keyword *boosting*)"
   ]
  },
  {
   "cell_type": "code",
   "execution_count": 147,
   "metadata": {},
   "outputs": [],
   "source": [
    "class ResnetLayer(BatchNormLayer):\n",
    "    def forward(self, x):\n",
    "        return x + super().forward(x)"
   ]
  },
  {
   "cell_type": "markdown",
   "metadata": {},
   "source": [
    "Full resnet block has two convolutions that get added to original input..."
   ]
  },
  {
   "cell_type": "code",
   "execution_count": 178,
   "metadata": {},
   "outputs": [],
   "source": [
    "class Resnet(nn.Module):\n",
    "    def __init__(self, layers, n_out):\n",
    "        super().__init__()\n",
    "        self.conv1 = nn.Conv2d(3, layers[0], kernel_size=5, stride=1, padding=2)\n",
    "        \n",
    "        # Bottleneck layer reduces the size\n",
    "        self.layers = nn.ModuleList([BatchNormLayer(layers[i], layers[i + 1]) for i in range(len(layers) - 1)])\n",
    "        \n",
    "        self.layers2 = nn.ModuleList([ResnetLayer(layers[i + 1], layers[i + 1], stride=1) for i in range(len(layers) - 1)])\n",
    "        \n",
    "        self.layers3 = nn.ModuleList([ResnetLayer(layers[i + 1], layers[i + 1], stride=1) for i in range(len(layers) - 1)])\n",
    "        \n",
    "        self.out = nn.Linear(layers[-1], n_out)\n",
    "        \n",
    "    def forward(self, x):\n",
    "        x = self.conv1(x)\n",
    "        for l, l2, l3 in zip(self.layers, self.layers2, self.layers3):\n",
    "            x = l3(l2(l(x)))\n",
    "            \n",
    "        x = F.adaptive_max_pool2d(x, 1)\n",
    "        x = x.view(x.size(0), -1)\n",
    "        return F.log_softmax(self.out(x), dim=-1)"
   ]
  },
  {
   "cell_type": "code",
   "execution_count": 179,
   "metadata": {},
   "outputs": [],
   "source": [
    "learn = ConvLearner.from_model_data(Resnet([10, 20, 40, 80, 160], 10), data)"
   ]
  },
  {
   "cell_type": "code",
   "execution_count": 180,
   "metadata": {},
   "outputs": [],
   "source": [
    "wd = 1e-5"
   ]
  },
  {
   "cell_type": "code",
   "execution_count": 181,
   "metadata": {},
   "outputs": [
    {
     "data": {
      "application/vnd.jupyter.widget-view+json": {
       "model_id": "69f08912ca54449c8a61f5922b770d4f",
       "version_major": 2,
       "version_minor": 0
      },
      "text/plain": [
       "HBox(children=(IntProgress(value=0, description='Epoch', max=2), HTML(value='')))"
      ]
     },
     "metadata": {},
     "output_type": "display_data"
    },
    {
     "name": "stdout",
     "output_type": "stream",
     "text": [
      " 45%|████▍     | 88/196 [00:08<00:10,  9.96it/s, loss=1.84]\n",
      "epoch      trn_loss   val_loss   accuracy                   \n",
      "    0      1.576525   1.448838   0.463     \n",
      "    1      1.361114   1.265466   0.5356                     \n",
      "\n",
      "CPU times: user 3min 36s, sys: 26.7 s, total: 4min 2s\n",
      "Wall time: 38.9 s\n"
     ]
    },
    {
     "data": {
      "text/plain": [
       "[array([1.26547]), 0.5356]"
      ]
     },
     "execution_count": 181,
     "metadata": {},
     "output_type": "execute_result"
    }
   ],
   "source": [
    "%time learn.fit(1e-2, 2, wds=wd)"
   ]
  },
  {
   "cell_type": "code",
   "execution_count": 183,
   "metadata": {},
   "outputs": [
    {
     "data": {
      "application/vnd.jupyter.widget-view+json": {
       "model_id": "fab9e252e3a14e0c992f105728acf3c7",
       "version_major": 2,
       "version_minor": 0
      },
      "text/plain": [
       "HBox(children=(IntProgress(value=0, description='Epoch', max=7), HTML(value='')))"
      ]
     },
     "metadata": {},
     "output_type": "display_data"
    },
    {
     "name": "stdout",
     "output_type": "stream",
     "text": [
      "epoch      trn_loss   val_loss   accuracy                   \n",
      "    0      1.185055   1.101637   0.6028    \n",
      "    1      1.111434   1.06314    0.6245                     \n",
      "    2      0.998808   0.977068   0.6513                      \n",
      "    3      1.027849   0.975656   0.6556                     \n",
      "    4      0.906812   0.896426   0.6808                      \n",
      "    5      0.822771   0.825362   0.7067                      \n",
      "    6      0.796764   0.841008   0.7043                      \n",
      "\n",
      "CPU times: user 12min 32s, sys: 1min 33s, total: 14min 5s\n",
      "Wall time: 2min 15s\n"
     ]
    },
    {
     "data": {
      "text/plain": [
       "[array([0.84101]), 0.7043]"
      ]
     },
     "execution_count": 183,
     "metadata": {},
     "output_type": "execute_result"
    }
   ],
   "source": [
    "%time learn.fit(1e-2, 3, cycle_len=1, cycle_mult=2, wds=wd)"
   ]
  },
  {
   "cell_type": "code",
   "execution_count": 184,
   "metadata": {},
   "outputs": [
    {
     "data": {
      "application/vnd.jupyter.widget-view+json": {
       "model_id": "e3d7b1a849e040498146112a0a964abb",
       "version_major": 2,
       "version_minor": 0
      },
      "text/plain": [
       "HBox(children=(IntProgress(value=0, description='Epoch', max=32), HTML(value='')))"
      ]
     },
     "metadata": {},
     "output_type": "display_data"
    },
    {
     "name": "stdout",
     "output_type": "stream",
     "text": [
      "epoch      trn_loss   val_loss   accuracy                    \n",
      "    0      0.873156   0.840932   0.7053    \n",
      "    1      0.795489   0.774087   0.7249                      \n",
      "    2      0.717201   0.71873    0.7482                      \n",
      "    3      0.669033   0.707185   0.7537                      \n",
      "    4      0.775813   0.762757   0.7369                      \n",
      "    5      0.70549    0.739103   0.7456                      \n",
      "    6      0.621499   0.659228   0.7746                      \n",
      "    7      0.578924   0.669779   0.772                       \n",
      "    8      0.681729   0.715374   0.7505                      \n",
      "    9      0.6251     0.644874   0.7748                      \n",
      "    10     0.545657   0.624503   0.7876                      \n",
      "    11     0.508989   0.621296   0.7892                      \n",
      "    12     0.615765   0.686351   0.7705                      \n",
      "    13     0.550705   0.639152   0.7823                      \n",
      "    14     0.505529   0.590059   0.796                       \n",
      "    15     0.459851   0.585975   0.8005                      \n",
      "    16     0.563753   0.63697    0.7859                      \n",
      "    17     0.508115   0.597805   0.7984                      \n",
      "    18     0.454198   0.591694   0.8006                      \n",
      "    19     0.422986   0.555419   0.8159                      \n",
      "    20     0.540979   0.651008   0.7867                      \n",
      "    21     0.481044   0.585627   0.8012                      \n",
      "    22     0.424541   0.558195   0.8125                      \n",
      "    23     0.385262   0.556032   0.8141                      \n",
      "    24     0.495159   0.608694   0.7928                      \n",
      "    25     0.446958   0.571407   0.8102                      \n",
      "    26     0.388603   0.567979   0.8157                      \n",
      "    27     0.350226   0.567475   0.8131                      \n",
      "    28     0.453512   0.576033   0.8082                      \n",
      "    29     0.410017   0.564211   0.8138                      \n",
      "    30     0.360722   0.536591   0.8224                      \n",
      "    31     0.331976   0.532281   0.8235                      \n",
      "\n",
      "CPU times: user 57min 34s, sys: 7min 9s, total: 1h 4min 43s\n",
      "Wall time: 10min 20s\n"
     ]
    },
    {
     "data": {
      "text/plain": [
       "[array([0.53228]), 0.8235]"
      ]
     },
     "execution_count": 184,
     "metadata": {},
     "output_type": "execute_result"
    }
   ],
   "source": [
    "%time learn.fit(1e-2, 8, cycle_len=4, wds=wd)"
   ]
  },
  {
   "cell_type": "markdown",
   "metadata": {},
   "source": [
    "**Three times deeper than first BatchNorm model we created but trains beautifully! :)**"
   ]
  },
  {
   "cell_type": "markdown",
   "metadata": {},
   "source": [
    "## Let's tweak this a little more..."
   ]
  },
  {
   "cell_type": "code",
   "execution_count": 189,
   "metadata": {},
   "outputs": [],
   "source": [
    "class Resnet2(nn.Module):\n",
    "    def __init__(self, layers, n_out, p = 0.5):\n",
    "        super().__init__()\n",
    "        self.conv1 = BatchNormLayer(3, layers[0], stride=1, kernel_size=7)  # padding = 3\n",
    "        \n",
    "        self.layers = nn.ModuleList([BatchNormLayer(layers[i], layers[i + 1]) for i in range(len(layers) - 1)])\n",
    "        \n",
    "        self.layers2 = nn.ModuleList([ResnetLayer(layers[i + 1], layers[i + 1], stride=1) for i in range(len(layers) - 1)])\n",
    "        \n",
    "        self.layers3 = nn.ModuleList([ResnetLayer(layers[i + 1], layers[i + 1], stride=1) for i in range(len(layers) - 1)])\n",
    "        \n",
    "        self.out = nn.Linear(layers[-1], n_out)\n",
    "        self.drop = nn.Dropout(p)\n",
    "        \n",
    "    def forward(self, x):\n",
    "        x = self.conv1(x)\n",
    "        for l, l2, l3 in zip(self.layers, self.layers2, self.layers3):\n",
    "            x = l3(l2(l(x)))\n",
    "            \n",
    "        x = F.adaptive_max_pool2d(x, 1)\n",
    "        x = x.view(x.size(0), -1)\n",
    "        x = self.drop(x)\n",
    "        return F.log_softmax(self.out(x), dim=-1)"
   ]
  },
  {
   "cell_type": "code",
   "execution_count": 190,
   "metadata": {},
   "outputs": [],
   "source": [
    "learn = ConvLearner.from_model_data(Resnet2([16, 32, 65, 128, 256], 10, 0.2), data)"
   ]
  },
  {
   "cell_type": "code",
   "execution_count": 191,
   "metadata": {},
   "outputs": [],
   "source": [
    "wd = 1e-6"
   ]
  },
  {
   "cell_type": "code",
   "execution_count": 192,
   "metadata": {},
   "outputs": [
    {
     "data": {
      "application/vnd.jupyter.widget-view+json": {
       "model_id": "6d2be10a7aab427b9d6609da473ff0b7",
       "version_major": 2,
       "version_minor": 0
      },
      "text/plain": [
       "HBox(children=(IntProgress(value=0, description='Epoch', max=2), HTML(value='')))"
      ]
     },
     "metadata": {},
     "output_type": "display_data"
    },
    {
     "name": "stdout",
     "output_type": "stream",
     "text": [
      "epoch      trn_loss   val_loss   accuracy                   \n",
      "    0      1.627052   1.482385   0.4644    \n",
      "    1      1.399879   1.261052   0.5447                     \n",
      "\n",
      "CPU times: user 3min 47s, sys: 28.4 s, total: 4min 15s\n",
      "Wall time: 41.4 s\n"
     ]
    },
    {
     "data": {
      "text/plain": [
       "[array([1.26105]), 0.5447]"
      ]
     },
     "execution_count": 192,
     "metadata": {},
     "output_type": "execute_result"
    }
   ],
   "source": [
    "% time learn.fit(lrs=1e-2, n_cycle=2, wds=wd)"
   ]
  },
  {
   "cell_type": "code",
   "execution_count": 193,
   "metadata": {},
   "outputs": [
    {
     "data": {
      "application/vnd.jupyter.widget-view+json": {
       "model_id": "4adbb56d143a4885ab818d023a3f5564",
       "version_major": 2,
       "version_minor": 0
      },
      "text/plain": [
       "HBox(children=(IntProgress(value=0, description='Epoch', max=7), HTML(value='')))"
      ]
     },
     "metadata": {},
     "output_type": "display_data"
    },
    {
     "name": "stdout",
     "output_type": "stream",
     "text": [
      "epoch      trn_loss   val_loss   accuracy                   \n",
      "    0      1.192086   1.145631   0.5898    \n",
      "    1      1.138265   1.101608   0.6141                     \n",
      "    2      1.003317   0.957184   0.6625                     \n",
      "    3      1.061927   1.022754   0.6477                     \n",
      "    4      0.945411   0.916022   0.6819                      \n",
      "    5      0.838307   0.801131   0.7169                      \n",
      "    6      0.791739   0.804649   0.7185                      \n",
      "\n",
      "CPU times: user 13min 22s, sys: 1min 38s, total: 15min\n",
      "Wall time: 2min 24s\n"
     ]
    },
    {
     "data": {
      "text/plain": [
       "[array([0.80465]), 0.7185]"
      ]
     },
     "execution_count": 193,
     "metadata": {},
     "output_type": "execute_result"
    }
   ],
   "source": [
    "% time learn.fit(lrs=1e-2, n_cycle=3, cycle_len=1, cycle_mult=2, wds=wd)"
   ]
  },
  {
   "cell_type": "code",
   "execution_count": 199,
   "metadata": {},
   "outputs": [
    {
     "data": {
      "application/vnd.jupyter.widget-view+json": {
       "model_id": "a14d6bb88b8846c0887389e529140a92",
       "version_major": 2,
       "version_minor": 0
      },
      "text/plain": [
       "HBox(children=(IntProgress(value=0, description='Epoch', max=32), HTML(value='')))"
      ]
     },
     "metadata": {},
     "output_type": "display_data"
    },
    {
     "name": "stdout",
     "output_type": "stream",
     "text": [
      "epoch      trn_loss   val_loss   accuracy                    \n",
      "    0      0.887833   0.882731   0.6931    \n",
      "    1      0.809342   0.788145   0.723                       \n",
      "    2      0.714211   0.707529   0.7515                      \n",
      "    3      0.673939   0.696332   0.7539                      \n",
      "    4      0.794014   0.754859   0.7393                      \n",
      "    5      0.710952   0.681661   0.7615                      \n",
      "    6      0.625848   0.672974   0.7707                      \n",
      "    7      0.585995   0.636027   0.78                        \n",
      "    8      0.71474    0.704283   0.7551                      \n",
      "    9      0.629979   0.672416   0.7711                      \n",
      "    10     0.567307   0.610239   0.7931                      \n",
      "    11     0.522102   0.598643   0.793                       \n",
      "    12     0.637208   0.629912   0.7825                      \n",
      "    13     0.577492   0.622961   0.7873                      \n",
      "    14     0.519527   0.556991   0.8105                      \n",
      "    15     0.474265   0.567799   0.8062                      \n",
      "    16     0.594252   0.620696   0.7878                      \n",
      "    17     0.532623   0.607602   0.7936                      \n",
      "    18     0.474768   0.547793   0.8159                      \n",
      "    19     0.43386    0.540294   0.8177                      \n",
      "    20     0.556208   0.587111   0.7972                      \n",
      "    21     0.495127   0.574156   0.8017                      \n",
      "    22     0.431497   0.537003   0.823                       \n",
      "    23     0.39906    0.510635   0.8245                      \n",
      "    24     0.513565   0.579479   0.8006                      \n",
      "    25     0.465707   0.540691   0.8201                      \n",
      "    26     0.400908   0.5318     0.8236                      \n",
      "    27     0.371208   0.510625   0.828                       \n",
      "    28     0.487277   0.56614    0.8102                      \n",
      "    29     0.439708   0.532742   0.8203                      \n",
      "    30     0.371234   0.509699   0.8275                      \n",
      "    31     0.340832   0.490735   0.8369                      \n",
      "\n",
      "CPU times: user 1h 1min 2s, sys: 7min 27s, total: 1h 8min 30s\n",
      "Wall time: 10min 57s\n"
     ]
    },
    {
     "data": {
      "text/plain": [
       "[array([0.49073]), 0.8369]"
      ]
     },
     "execution_count": 199,
     "metadata": {},
     "output_type": "execute_result"
    }
   ],
   "source": [
    "% time learn.fit(lrs=1e-2, n_cycle=8, cycle_len=4, cycle_mult=1, wds=wd)"
   ]
  },
  {
   "cell_type": "code",
   "execution_count": 200,
   "metadata": {},
   "outputs": [],
   "source": [
    "learn.save('final')"
   ]
  },
  {
   "cell_type": "code",
   "execution_count": 201,
   "metadata": {},
   "outputs": [
    {
     "name": "stdout",
     "output_type": "stream",
     "text": [
      "                                             \r"
     ]
    }
   ],
   "source": [
    "log_preds, y = learn.TTA()"
   ]
  },
  {
   "cell_type": "code",
   "execution_count": 202,
   "metadata": {},
   "outputs": [
    {
     "data": {
      "text/plain": [
       "(5, 10000, 10)"
      ]
     },
     "execution_count": 202,
     "metadata": {},
     "output_type": "execute_result"
    }
   ],
   "source": [
    "log_preds.shape"
   ]
  },
  {
   "cell_type": "code",
   "execution_count": 203,
   "metadata": {},
   "outputs": [],
   "source": [
    "preds = np.mean(np.exp(log_preds), axis=0)"
   ]
  },
  {
   "cell_type": "code",
   "execution_count": 217,
   "metadata": {},
   "outputs": [
    {
     "data": {
      "text/plain": [
       "(0.4413704039683223, 0.8488)"
      ]
     },
     "execution_count": 217,
     "metadata": {},
     "output_type": "execute_result"
    }
   ],
   "source": [
    "metrics.log_loss(y, preds), (np.argmax(preds, axis=1) == y).mean()"
   ]
  }
 ],
 "metadata": {
  "kernelspec": {
   "display_name": "Python [conda env:deeplearning_save_2]",
   "language": "python",
   "name": "conda-env-deeplearning_save_2-py"
  },
  "language_info": {
   "codemirror_mode": {
    "name": "ipython",
    "version": 3
   },
   "file_extension": ".py",
   "mimetype": "text/x-python",
   "name": "python",
   "nbconvert_exporter": "python",
   "pygments_lexer": "ipython3",
   "version": "3.6.5"
  }
 },
 "nbformat": 4,
 "nbformat_minor": 2
}
