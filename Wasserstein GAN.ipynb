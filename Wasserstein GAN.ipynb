{
 "cells": [
  {
   "cell_type": "markdown",
   "metadata": {},
   "source": [
    "# Wasserstein GAN (WGAN)"
   ]
  },
  {
   "cell_type": "code",
   "execution_count": 1,
   "metadata": {},
   "outputs": [],
   "source": [
    "from fastai.conv_learner import *\n",
    "from fastai.dataset import *"
   ]
  },
  {
   "cell_type": "markdown",
   "metadata": {},
   "source": [
    "## Dataset: lsun bedrooms"
   ]
  },
  {
   "cell_type": "code",
   "execution_count": 2,
   "metadata": {},
   "outputs": [],
   "source": [
    "PATH = Path('data/lsun/')\n",
    "IMG_PATH = PATH/'bedrooms'\n",
    "CSV_PATH = PATH/'files.csv'\n",
    "TMP_PATH = PATH/'tmp'\n",
    "TMP_PATH.mkdir(exist_ok=True)"
   ]
  },
  {
   "cell_type": "code",
   "execution_count": 3,
   "metadata": {},
   "outputs": [],
   "source": [
    "TMP_PATH.mkdir(exist_ok=True)"
   ]
  },
  {
   "cell_type": "code",
   "execution_count": 4,
   "metadata": {},
   "outputs": [],
   "source": [
    "files = PATH.glob('bedrooms/**/*.jpg')"
   ]
  },
  {
   "cell_type": "code",
   "execution_count": 5,
   "metadata": {},
   "outputs": [],
   "source": [
    "with CSV_PATH.open('w') as out:\n",
    "    for f in files:\n",
    "        out.write(f'{f.relative_to(IMG_PATH)},0\\n')\n",
    "        \n",
    "# The 0 is a fake label so that we can utilize existing dataset and dataloader objects\n",
    "\n",
    "# Note: for experimenting its useful to create a small subset of the dataset. Simply do `if random.random()<0.1: out.write...`"
   ]
  },
  {
   "cell_type": "code",
   "execution_count": 6,
   "metadata": {},
   "outputs": [],
   "source": [
    "bs=128\n",
    "sz=64\n",
    "nz=100"
   ]
  },
  {
   "cell_type": "code",
   "execution_count": 7,
   "metadata": {},
   "outputs": [],
   "source": [
    "tfms = tfms_from_stats(inception_stats, sz)"
   ]
  },
  {
   "cell_type": "code",
   "execution_count": 8,
   "metadata": {},
   "outputs": [],
   "source": [
    "modeldata = ImageClassifierData.from_csv(PATH, 'bedrooms', CSV_PATH, tfms=tfms, bs=bs, skip_header=False, continuous=True)"
   ]
  },
  {
   "cell_type": "code",
   "execution_count": 9,
   "metadata": {},
   "outputs": [],
   "source": [
    "x, _ = next(iter(modeldata.val_dl))"
   ]
  },
  {
   "cell_type": "code",
   "execution_count": 10,
   "metadata": {},
   "outputs": [
    {
     "data": {
      "text/plain": [
       "<matplotlib.image.AxesImage at 0x7f261ebcd048>"
      ]
     },
     "execution_count": 10,
     "metadata": {},
     "output_type": "execute_result"
    },
    {
     "data": {
      "image/png": "[encoded data removed]",
      "text/plain": [
       "<Figure size 432x288 with 1 Axes>"
      ]
     },
     "metadata": {},
     "output_type": "display_data"
    }
   ],
   "source": [
    "plt.imshow(modeldata.trn_ds.denorm(x)[6])"
   ]
  },
  {
   "cell_type": "markdown",
   "metadata": {},
   "source": [
    "## Architecture"
   ]
  },
  {
   "cell_type": "code",
   "execution_count": 11,
   "metadata": {},
   "outputs": [],
   "source": [
    "class ConvLayer(nn.Module):\n",
    "    def __init__(self, n_in, n_out, kernel_size, stride, bn=True, pad=None):\n",
    "        super().__init__()\n",
    "        \n",
    "        if pad is None: pad = kernel_size//2//stride\n",
    "        \n",
    "        self.conv = nn.Conv2d(n_in, n_out, kernel_size, stride, padding=pad, bias=False)\n",
    "        self.bn = nn.BatchNorm2d(n_out) if bn else None\n",
    "        self.leakyRelu = nn.LeakyReLU(0.2, inplace=True)\n",
    "    \n",
    "    def forward(self, x):\n",
    "        x = self.leakyRelu(self.conv(x))\n",
    "        return self.bn(x) if self.bn else x"
   ]
  },
  {
   "cell_type": "markdown",
   "metadata": {},
   "source": [
    "### Discriminator\n",
    "\n",
    "Gives a single number that says whether it believes the image is real or fake"
   ]
  },
  {
   "cell_type": "code",
   "execution_count": 22,
   "metadata": {},
   "outputs": [],
   "source": [
    "class Discriminator(nn.Module):\n",
    "    def __init__(self, in_size, n_in, n_out, n_extra_layers=0):\n",
    "        super().__init__()\n",
    "        assert in_size % 16 == 0\n",
    "        \n",
    "        self.conv1 = ConvLayer(n_in, n_out, 4, 2, bn=False)\n",
    "        csize = in_size/2\n",
    "        cndf  = n_out\n",
    "        \n",
    "        self.extra = nn.Sequential(*[ConvLayer(cndf, cndf, 3, 1) for t in range(n_extra_layers)])  # preserve size\n",
    "        \n",
    "        pyramid_layers = []\n",
    "        \n",
    "        while csize > 4:  # until height or width is <= 4\n",
    "            pyramid_layers.append(ConvLayer(cndf, cndf * 2, 4, 2))\n",
    "            cndf *= 2\n",
    "            csize /= 2\n",
    "        \n",
    "        self.pyramid = nn.Sequential(*pyramid_layers)\n",
    "        self.final = nn.Conv2d(cndf, 1, 4, padding=0, bias=False)\n",
    "        \n",
    "    def forward(self, x):\n",
    "        #pdb.set_trace()\n",
    "        x = self.conv1(x)\n",
    "        x = self.extra(x)\n",
    "        x = self.pyramid(x) # [128, 512, 4, 4] for 64x64 input\n",
    "        x = self.final(x)   # [128, 1, 1, 1] for 64x64 input, now do mean over batch\n",
    "        x = x.mean(0).view(1) # torch.Size([1])\n",
    "        return x"
   ]
  },
  {
   "cell_type": "markdown",
   "metadata": {},
   "source": [
    "## Generator"
   ]
  },
  {
   "cell_type": "code",
   "execution_count": 27,
   "metadata": {},
   "outputs": [],
   "source": [
    "class DeconvLayer(nn.Module):\n",
    "    def __init__(self, n_in, n_out, kernel_size, stride, pad, bn=True):\n",
    "        super().__init__()\n",
    "        self.conv = nn.ConvTranspose2d(n_in, n_out, kernel_size, stride, padding=pad, bias=False)\n",
    "        self.bn = nn.BatchNorm2d(n_out) if bn else None\n",
    "        self.relu = nn.ReLU(inplace=True)\n",
    "        \n",
    "    def forward(self, x):\n",
    "        x = self.relu(self.conv(x))\n",
    "        return self.bn(x) if self.bn else x"
   ]
  },
  {
   "cell_type": "code",
   "execution_count": null,
   "metadata": {},
   "outputs": [],
   "source": [
    "class Generator(nn.Module):\n",
    "    def __init__(self, in_size, nz, n_in, n_out, n_extra_layers=0):\n",
    "        super().__init__()\n",
    "        assert in_size % 16 == 0\n",
    "        \n",
    "        "
   ]
  },
  {
   "cell_type": "code",
   "execution_count": null,
   "metadata": {},
   "outputs": [],
   "source": []
  },
  {
   "cell_type": "code",
   "execution_count": null,
   "metadata": {},
   "outputs": [],
   "source": []
  },
  {
   "cell_type": "code",
   "execution_count": null,
   "metadata": {},
   "outputs": [],
   "source": []
  },
  {
   "cell_type": "code",
   "execution_count": 23,
   "metadata": {},
   "outputs": [],
   "source": [
    "netD = Discriminator(sz, 3, 64, 1)"
   ]
  }
 ],
 "metadata": {
  "kernelspec": {
   "display_name": "Python [conda env:deeplearning]",
   "language": "python",
   "name": "conda-env-deeplearning-py"
  },
  "language_info": {
   "codemirror_mode": {
    "name": "ipython",
    "version": 3
   },
   "file_extension": ".py",
   "mimetype": "text/x-python",
   "name": "python",
   "nbconvert_exporter": "python",
   "pygments_lexer": "ipython3",
   "version": "3.6.7"
  }
 },
 "nbformat": 4,
 "nbformat_minor": 2
}
